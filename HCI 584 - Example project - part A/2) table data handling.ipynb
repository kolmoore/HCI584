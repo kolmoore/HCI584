{
 "cells": [
  {
   "cell_type": "markdown",
   "metadata": {},
   "source": [
    "## Deal with data handling\n",
    "- Data (to me) is central for this project and I would start by implementing how it is handled in our specific case\n"
   ]
  },
  {
   "cell_type": "raw",
   "metadata": {
    "vscode": {
     "languageId": "raw"
    }
   },
   "source": [
    "- What are the two aspects of data handling that we need to think about?\n",
    "\n",
    "Getting the search information from the user\n",
    "Getting the book information from the playstore\n",
    "\n",
    "- Looking at the table in books.csv (either in Excel or via the preview extension), which columns would the user search for?\n",
    "\n",
    "Subject, Title, Author, Summary\n",
    "\n",
    "- What kind of data structure would you use to store the data? Why?\n",
    "\n",
    "Probably a dictionary because it allows for quick seach and recovery of the information."
   ]
  },
  {
   "cell_type": "markdown",
   "metadata": {},
   "source": [
    "<br><br><br><br><br><br><br><br><br><br><br><br><br><br><br><br>"
   ]
  },
  {
   "cell_type": "markdown",
   "metadata": {
    "tags": []
   },
   "source": [
    "### My take  (unhide this cell by clicking to the left of My)"
   ]
  },
  {
   "cell_type": "markdown",
   "metadata": {},
   "source": [
    "There are two data aspects:\n",
    "- __loading__ the file into a data structure that then can use to\n",
    "- __search__ for the user's query\n",
    "- note that this could be an exact search or a fuzzy search (e.g. matching some but not all words, or even matching misspelled words)\n",
    "\n",
    "    \n",
    "Notes:\n",
    "- this assumes that csv file is small enough to be loaded into memory\n",
    "- for larger files, we would need to use a database (e.g. sqlite) and search it\n",
    "\n",
    "\n",
    "Data structures\n",
    "- we could create a csv object using the csv Reader class from the csv module\n",
    "- to search we would loop over the content of a row (a list) and check if a list element matches the query \n",
    "\n",
    "<p>\n",
    "\n",
    "- but we can also use a __pandas DataFrame__, which is a 2D data structure with labeled axes (rows and columns)\n",
    "- we can use the pandas read_csv function to read the csv file into a DataFrame\n",
    "- we can then use the pandas query method to search specific columns \n"
   ]
  },
  {
   "cell_type": "markdown",
   "metadata": {},
   "source": [
    "### read data.csv into a pandas data frame    \n",
    "- complete the code cell below\n",
    "- if you need a refresher, see _Python refresher 4 b) pandas and numpy_\n",
    "- For solutions, see Solutions_for_A.py\n"
   ]
  },
  {
   "cell_type": "code",
   "execution_count": 20,
   "metadata": {},
   "outputs": [
    {
     "name": "stdout",
     "output_type": "stream",
     "text": [
      "          Subject                               Title                Author  \\\n",
      "0         Animals        Studies in Global Animal Law           Anne Peters   \n",
      "1         Animals                  Life After Logging           E. Meijaard   \n",
      "2    Architecture                    Everyday Streets     Agustina Martire    \n",
      "3    Architecture  Erholung in siedlungsnahen Wäldern          Susanne Karn   \n",
      "4    Architecture          Public Space in Transition             Dahae Lee   \n",
      "..            ...                                 ...                   ...   \n",
      "147        Poetry                   Pátria Invencível        Nelson Santrim   \n",
      "148        Poetry                              Unfold          Ari B. Cofer   \n",
      "149        Poetry                  Vetrikku Ore Vazhi              Multiple   \n",
      "150        Poetry        Kanneerin micham kavithaigal          Karpagavalli   \n",
      "151        Poetry               Memories and miracles  Leslin Sushma Dsouza   \n",
      "\n",
      "             ISBN                                            Summary  \n",
      "0    3.662608e+09  This open access book contains 13 contribution...  \n",
      "1    9.793362e+09  This book presents a technical review of ecolo...  \n",
      "2    1.800084e+09  Everyday streets are both the most used and mo...  \n",
      "3    3.728141e+09  Siedlungsnahe Wälder gehören zu den beliebtest...  \n",
      "4    3.839462e+09  Teheran-ro in Seoul and Mediaspree area in Ber...  \n",
      "..            ...                                                ...  \n",
      "147  1.526047e+09                          Poesias ao sabor dos dias  \n",
      "148  1.771683e+08  From the author of paper girl and the knives t...  \n",
      "149  9.392507e+09    Don't give up on failure. Become strong enou...  \n",
      "150  9.392507e+09                                                  .  \n",
      "151  9.392507e+09  Memories and Miracles\" is a collection of poem...  \n",
      "\n",
      "[152 rows x 5 columns]\n",
      "['Subject', 'Title', 'Author', 'ISBN', 'Summary']\n"
     ]
    }
   ],
   "source": [
    "# import pandas package, rename to pd\n",
    "import pandas as pd\n",
    "\n",
    "# Read books.csv file into a DataFrame (see Python refresher 4)\n",
    "book_df = pd.read_csv(\"books.csv\")\n",
    "df = pd.read_csv(\"books.csv\")\n",
    "\n",
    "# print out/display the dataframe  \n",
    "print(book_df)\n",
    "\n",
    "# print out the column names as a list \n",
    "print(list(book_df.columns))"
   ]
  },
  {
   "cell_type": "markdown",
   "metadata": {},
   "source": [
    "### Searching  \n",
    "\n",
    "- we will only use the Title, Author and Summary columns here\n",
    "- The user will have the ability to search by title, result of a successful search will be the author, title and summary.\n",
    "- Let's do  a simple search by title  \n",
    "- We can use == to search \n",
    "- again, see python refresher 4b, at the end of the pandas part "
   ]
  },
  {
   "cell_type": "code",
   "execution_count": 16,
   "metadata": {},
   "outputs": [
    {
     "data": {
      "text/html": [
       "<div>\n",
       "<style scoped>\n",
       "    .dataframe tbody tr th:only-of-type {\n",
       "        vertical-align: middle;\n",
       "    }\n",
       "\n",
       "    .dataframe tbody tr th {\n",
       "        vertical-align: top;\n",
       "    }\n",
       "\n",
       "    .dataframe thead th {\n",
       "        text-align: right;\n",
       "    }\n",
       "</style>\n",
       "<table border=\"1\" class=\"dataframe\">\n",
       "  <thead>\n",
       "    <tr style=\"text-align: right;\">\n",
       "      <th></th>\n",
       "      <th>Subject</th>\n",
       "      <th>Title</th>\n",
       "      <th>Author</th>\n",
       "      <th>ISBN</th>\n",
       "      <th>Summary</th>\n",
       "    </tr>\n",
       "  </thead>\n",
       "  <tbody>\n",
       "    <tr>\n",
       "      <th>148</th>\n",
       "      <td>Poetry</td>\n",
       "      <td>Unfold</td>\n",
       "      <td>Ari B. Cofer</td>\n",
       "      <td>177168285.0</td>\n",
       "      <td>From the author of paper girl and the knives t...</td>\n",
       "    </tr>\n",
       "  </tbody>\n",
       "</table>\n",
       "</div>"
      ],
      "text/plain": [
       "    Subject   Title        Author         ISBN  \\\n",
       "148  Poetry  Unfold  Ari B. Cofer  177168285.0   \n",
       "\n",
       "                                               Summary  \n",
       "148  From the author of paper girl and the knives t...  "
      ]
     },
     "metadata": {},
     "output_type": "display_data"
    },
    {
     "name": "stdout",
     "output_type": "stream",
     "text": [
      "148    Poetry\n",
      "Name: Subject, dtype: object\n",
      "Poetry\n"
     ]
    }
   ],
   "source": [
    "# Simple search with == \n",
    "\n",
    "# a) search for the row where the Title is Unfold\n",
    "\n",
    "new_df = book_df[book_df[\"Title\"] == \"Unfold\"]\n",
    "\n",
    "# print out the results using display()\n",
    "\n",
    "display(new_df)\n",
    "\n",
    "# You will notice that we still get the column titles printed out above the row.\n",
    "\n",
    "# Now print out the Subject of the first search result (i.e. the value of a cell in the Subject column)\n",
    "\n",
    "print(new_df[\"Subject\"])\n",
    "\n",
    "# Import: In order to print out just the value of the cell, you will need to use the .values[0] method\n",
    "\n",
    "print(new_df[\"Subject\"].values[0])"
   ]
  },
  {
   "cell_type": "markdown",
   "metadata": {},
   "source": [
    "### What if we want to search for a book title that is not an exact match?\n",
    "- Unless a title is very well known, it's unlikely that the user will know the exact title.\n",
    "- This will make it frustrating for the user to search for a book, which good HCI needs to avoid!\n",
    "- As one possible solution, we can use a fuzzy search that finds the best match for the user's query by not requiring an exact match but instead works with partial matches, doesn't care about the order of words, ignores case, etc.\n",
    "- Ex: searching for \"Egypt and the Classical World\" we might type in: \"egypt\" or \"Classic Egypt\" or \"egypt world\" or \"egypt and its world\" or \"egypt in classical world\", etc.\n",
    "- This following fuzzy function will return the best match of the search term.\n",
    "- I'm bringing this up now b/c when we use the google books API, it will do something similar internally to return the best match for our search term\n",
    "[fuzzywuzzy](https://github.com/seatgeek/thefuzz) module"
   ]
  },
  {
   "cell_type": "code",
   "execution_count": 17,
   "metadata": {},
   "outputs": [
    {
     "name": "stdout",
     "output_type": "stream",
     "text": [
      "Collecting rapidfuzz\n",
      "  Downloading rapidfuzz-3.9.7-cp312-cp312-win_amd64.whl.metadata (12 kB)\n",
      "Downloading rapidfuzz-3.9.7-cp312-cp312-win_amd64.whl (1.7 MB)\n",
      "   ---------------------------------------- 0.0/1.7 MB ? eta -:--:--\n",
      "   ------ --------------------------------- 0.3/1.7 MB ? eta -:--:--\n",
      "   ------------------------- -------------- 1.0/1.7 MB 3.6 MB/s eta 0:00:01\n",
      "   ---------------------------------------- 1.7/1.7 MB 3.1 MB/s eta 0:00:00\n",
      "Installing collected packages: rapidfuzz\n",
      "Successfully installed rapidfuzz-3.9.7\n",
      "Note: you may need to restart the kernel to use updated packages.\n"
     ]
    },
    {
     "name": "stderr",
     "output_type": "stream",
     "text": [
      "WARNING: Ignoring invalid distribution ~ (c:\\Python312\\Lib\\site-packages)\n",
      "WARNING: Ignoring invalid distribution ~ip (c:\\Python312\\Lib\\site-packages)\n",
      "WARNING: Ignoring invalid distribution ~umpy (c:\\Python312\\Lib\\site-packages)\n",
      "WARNING: Ignoring invalid distribution ~~p (c:\\Python312\\Lib\\site-packages)\n",
      "WARNING: Ignoring invalid distribution ~ (c:\\Python312\\Lib\\site-packages)\n",
      "WARNING: Ignoring invalid distribution ~ip (c:\\Python312\\Lib\\site-packages)\n",
      "WARNING: Ignoring invalid distribution ~umpy (c:\\Python312\\Lib\\site-packages)\n",
      "WARNING: Ignoring invalid distribution ~~p (c:\\Python312\\Lib\\site-packages)\n",
      "WARNING: Ignoring invalid distribution ~ (c:\\Python312\\Lib\\site-packages)\n",
      "WARNING: Ignoring invalid distribution ~ip (c:\\Python312\\Lib\\site-packages)\n",
      "WARNING: Ignoring invalid distribution ~umpy (c:\\Python312\\Lib\\site-packages)\n",
      "WARNING: Ignoring invalid distribution ~~p (c:\\Python312\\Lib\\site-packages)\n"
     ]
    }
   ],
   "source": [
    "%pip install rapidfuzz --upgrade"
   ]
  },
  {
   "cell_type": "code",
   "execution_count": 18,
   "metadata": {},
   "outputs": [],
   "source": [
    "# a fuzzy search function\n",
    "from rapidfuzz import fuzz, process\n",
    "\n",
    "# Function to find the best a search term in the Title column\n",
    "def fuzzy_find(df, search_term, n=1):\n",
    "    matches = process.extract(search_term, df[\"Title\"], scorer=fuzz.token_set_ratio, limit=n)\n",
    "    first_match = matches[0] # grab only first match, ignore n for now\n",
    "    text = first_match[0] # the text of the first match\n",
    "    match_score = first_match[1] # the similarity score of the first match\n",
    "    index = first_match[2] # the index in the data frame of the first match\n",
    "    \n",
    "    print(f\"searched for {search_term}\\nbest match: {text}, {index}, {match_score}\") # DEBUG a list of tuples (text, similarity score, index)\n",
    "    \n",
    "    return text, index, match_score"
   ]
  },
  {
   "cell_type": "markdown",
   "metadata": {},
   "source": [
    "- note that here we limit the results to the 1 (n=1) best result, but you could also request the top 5 or 10 best matches\n",
    "- even with n=1, `process.extract()` will always return a __list__ of tuples, so we need to extract the first tuple with `[0]` and then the text, score and index with `[0]`, `[1]` and `[2]` respectively\n",
    "- the index is needed so that the caller can use it as a row number to retrieve the data for the best match\n",
    "- the metric for best match is given in % and the function simply returns the text for the best match (string), the row index for best match and the % match and\n",
    "- I've put in a DEBUG print statement to show the match and the % match\n",
    "\n",
    "<pr>\n",
    "\n",
    "- Note that this will return a match even if the match quality is terrible, e.g. a 10% match!\n",
    "- Therefore, we will need to set a threshold for the match quality, e.g. 80% or higher\n",
    "- Which threshold to use will depend on you and how much you'd rather get a so-so match vs. no match at all\n",
    "- I'm using a 50% here"
   ]
  },
  {
   "cell_type": "code",
   "execution_count": 21,
   "metadata": {},
   "outputs": [
    {
     "name": "stdout",
     "output_type": "stream",
     "text": [
      "searched for classic egypt\n",
      "best match: Egypt and the Classical World, 31, 52.38095238095238\n",
      "Presenting dynamic research, this publication explores two millennia of cultural interactions between Egypt, Greece, and Rome. From Mycenaean weaponry found among the cargo of a Bronze Age shipwreck off the Turkish coast to the Egyptian-inspired domestic interiors of a luxury villa built in Greece during the Roman Empire, Egypt and the Classical World documents two millennia of cultural and artistic interconnectedness in the ancient Mediterranean. This volume gathers pioneering research from the\n"
     ]
    }
   ],
   "source": [
    "# fuzzy_find usage examples\n",
    "\n",
    "# Good match\n",
    "text, index, match = fuzzy_find(df, 'classic egypt')\n",
    "if match > 50:\n",
    "    row = df.iloc[index] # print the row of the best match\n",
    "    print(row['Summary'][:500])\n",
    "else:\n",
    "    print('No good match found')"
   ]
  },
  {
   "cell_type": "code",
   "execution_count": 22,
   "metadata": {},
   "outputs": [
    {
     "name": "stdout",
     "output_type": "stream",
     "text": [
      "searched for Adapting Classics\n",
      "best match: Climate Adaptation and Resilience Across Scales, 14, 46.875\n",
      "No good match found\n"
     ]
    }
   ],
   "source": [
    "# fuzzy_find usage examples\n",
    "\n",
    "# a bad match (match % is below 50%)\n",
    "text, index, match = fuzzy_find(df, \"Adapting Classics\")\n",
    "if match > 50:\n",
    "    row = df.iloc[index] # print the row of the best match\n",
    "    print(row['Summary'])\n",
    "else:\n",
    "    print('No good match found')"
   ]
  },
  {
   "cell_type": "markdown",
   "metadata": {},
   "source": [
    "#### Create a command-line interface for fuzzy search books.csv (3 pts)\n",
    "\n",
    "- open  __book_search_CLI.py__ now and complete the code there. \n",
    "- this will complete part A of the Example project HW\n",
    "\n",
    "<p>\n",
    "\n",
    "Inside the While True loop and using only input(), write code that:\n",
    "\n",
    "    1) ask the user for the title search term \n",
    "    2) ask for a quality threshold (our match %), give it a default of 50. If the user just hits return, keep the existing value otherwise update it\n",
    "    3) search the Title column in the DataFrame df for the search term with the fuzzy search \n",
    "    4) if there is a match (> 50!), print the book title, author, and summary but now nicely formatted (using a f string), like this: `f\"The summary for {title} by {author} is:\\n{summary}\"` (\n",
    "    5) if there is no good enough match, print a message saying so\n",
    "    6) Finally ask the user if they want to search again. If they do, repeat the process. If not, exit the loop.\n",
    "<p>\n",
    "\n",
    "- Here's the output for an example search:\n",
    "```\n",
    "What title do you want to search for? Classic Reformations\n",
    "What quality threshold do you want, currently 50 \n",
    "match of 48.97959183673469 is lower than 50, no good match found!\n",
    "Another Search? (y/n)y\n",
    "What title do you want to search for? Classic Reformations\n",
    "What quality threshold do you want, currently 50 40\n",
    "The summary for Egypt and the Classical World by Jeffrey Spier is:\n",
    "Presenting dynamic research, this publication explores two millennia of cultural interactions between Egypt, Greece, and Rome. From Mycenaean weaponry found among the cargo of a Bronze Age shipwreck off the Turkish coast to the Egyptian-inspired domestic interiors of a luxury villa built in Greece during the Roman Empire, Egypt and the Classical World documents two millennia of cultural and artistic interconnectedness in the ancient Mediterranean. This volume gathers pioneering research from the Getty scholars' symposium that helped shape the major international loan exhibition Beyond the Nile: Egypt and the Classical World (J. Paul Getty Museum, 2018). Generously illustrated essays consider a range of artistic and other material evidence, including archaeological finds, artworks, papyri, and inscriptions, to shed light on cultural interactions between Egypt, Greece, and Rome from the Bronze Age to the Late Period and Ptolemaic dynasty to the Roman Empire. \n",
    "Another Search? (y/n/)n\n",
    "```\n",
    "\n",
    "<p>\n",
    "\n",
    "- Note: this is a good opportunity to practice using the debugger! Use it to step through the loop and verify that \n",
    "any results look reasonable. You can hover over the variables to see their values, or use the DEBUG CONSOLE to print out values. \n",
    "- You can also use the DEBUG CONSOLE to run code, like `df.head()` to see the first few rows of the data frame."
   ]
  }
 ],
 "metadata": {
  "kernelspec": {
   "display_name": "Python 3",
   "language": "python",
   "name": "python3"
  },
  "language_info": {
   "codemirror_mode": {
    "name": "ipython",
    "version": 3
   },
   "file_extension": ".py",
   "mimetype": "text/x-python",
   "name": "python",
   "nbconvert_exporter": "python",
   "pygments_lexer": "ipython3",
   "version": "3.12.4"
  },
  "orig_nbformat": 4
 },
 "nbformat": 4,
 "nbformat_minor": 2
}

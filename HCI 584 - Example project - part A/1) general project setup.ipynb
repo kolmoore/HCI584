{
 "cells": [
  {
   "cell_type": "markdown",
   "metadata": {},
   "source": [
    "## Google Books Example project for HCI584 - Part A\n",
    "- this assignment will walk through creating a simple but expandable app that searches for book by title in a database and displays information such as title, author, date, description, etc.\n",
    "- Initially, we will use a command line interface (CLI) to search a simple database (a csv file) and display the results. (part A)\n",
    "- We will then create  Desktop GUI app, using TKinter with only a few simple widgets.  (part B)\n",
    "- We will then replace the csv file database with the Google Books API and use the same GUI to interact with it. (part C)\n",
    "\n",
    "<p>\n",
    "\n",
    "- We will go over several steps that are meant to prepare you for similar activities when you do your own project.\n",
    "\n",
    "1) Create a simple sketch of the app\n",
    "\n",
    "    Define the tasks/interactions, set up a simple GUI, go over what needs to happen in your code to support each interaction\n",
    "\n",
    "2) Write a more detailed project spec\n",
    "\n",
    "    Add details:  How will data be handled/stored? Which API and packages can we use? What are more complex tasks we might want to support later?\n",
    "\n",
    "3) Implement a version 1\n",
    "\n",
    "    Keep it simple but do it right! Explore the data. Isolate the non-Gui parts and write code for them in isolation. Test them in isolation! Then write the GUI and connect it to the other parts.\n",
    "\n",
    "4) Optional: Implement more complex tasks, polish things (this would correspond to your version 2)\n",
    "\n",
    "<p>\n",
    "\n",
    "Note A) \n",
    "- In the beginning we will use notebooks b/c they can integrate text, drawing, etc. \n",
    "- We will use use a notebook for our data exploration and for most non-GUI parts. \n",
    "- After that we will switch to  .py files and make use of the debugger.\n",
    "\n",
    "<p>\n",
    "\n",
    "Note B) \n",
    "- Although this is essentially my project, there will be parts for you to implement yourself or at least modify and add to my code. \n",
    "- This will probably involve a lot of googling - that's totally fine, I just want you to get used to solving small well-defined problems and glue them together, before you start your own project.   \n",
    "\n",
    "<p>\n",
    "\n",
    "Note C)\n",
    "- This is the first time I'm doing this project, so I'm not sure how long it will take.\n",
    "- Also, I would be very grateful for feedback on how to improve it! Put your feedback as comments in the notebook or the .py files. Thank you!"
   ]
  },
  {
   "cell_type": "markdown",
   "metadata": {},
   "source": [
    "### Sketch\n",
    "\n",
    "Description:\n",
    "The user wants get suggestions for ebooks based on subject or find an ebook based on title. At a minimum, the user wants to see some details such as title, author, date, description (maybe a cover image?). Finally, the user wants an easy way to hop on the Google Bookstore (Playstore) to see more details or possible purchase the book. If the ebook is free, the user wants to read it in a ebook reader.\n",
    "\n",
    "- _Who would be the users?_\n",
    "\n",
    "    Anybody reading books, especially free ebooks :)\n",
    "\n",
    "- _What is the task? What problem would it (help to) solve?_ \n",
    "\n",
    "    Searching for books and quickly getting specific info, such as a description (synopsis) and a cover image.\n",
    "\n",
    "- _What is the primary interaction? Is there an interaction loop?_\n",
    "\n",
    "    Enter search term, decide if that's a title or more generally a subject and search for it among google's ebook library. Look at the details of one or several returns. If nothing was returned, change search term and search again. If satisfied with a return, hop onto its page on teh google book store. If its free, launch a browser-based ebook reader.\n",
    "\n",
    "- _(If you can, speculate on what kind of user interface you might use. For example it's relatively simple to make a web app with Flask and deploy it on something like pythonanywhere.com. Or you could use TkInter as a desktop GUI.)_ \n",
    "\n",
    "    TkInter for the main app, browser for the ebook reader. (Note: this could also be done using a Flask app which would integrate the reader.\n",
    "    \n",
    "- _What data would be used (input), how would you get it and how is it processed/analyzed?_\n",
    "\n",
    "    Initially, we will use a simple database (a csv file) that contains a few books. The database will be read into a pandas dataframe and searched using pandas' search functions.  The search will be done using a simple command line interface.\n",
    "\n",
    "    Later, searching the Google books API, detailed information about each book that first the search will be \"downloaded\" as a JSON data structure using requests. The data structure will be picked apart using simple python contains (dictionaries, lists) until the relevant information is found and displayed.\n",
    "    \n",
    "- _What are the results and how are they presented?_ \n",
    "\n",
    "    Initially we will just print the results to the command line. Later, we will use a simple TkInter GUI to present the results.\n",
    "\n",
    "    To keep it simple will initially only present 1 book (the \"best\" hit according the search engine). Information will be presented in a TkInter text \"area\" with an image of the cover nearby. buttons will be used for going to the google book store and for launching the ebook reader.\n"
   ]
  },
  {
   "cell_type": "raw",
   "metadata": {
    "vscode": {
     "languageId": "raw"
    }
   },
   "source": [
    "Your turn! \n",
    "\n",
    "\n",
    "- Do you understand the small-to-large, simple-to-complex approach? \n",
    "\n",
    "My background in systems engineering and design helps me to understand that approach fairly well.  Any complex task or product can be broken down into sub systems and pieces.  These pieces are just as important than the whole and all need to work and work together in order for the complexity to occur.\n",
    "\n",
    "- What are some aspects that make this approach is useful?\n",
    "\n",
    "It makes complex tasks simplier to attack and allow for complexity to be built logically and modularly.  This allows for easier troubleshooting and reuse.\n",
    "\n",
    "\n",
    "- Or would rather prefer to use a different approach? If so, explain the approach and why you think it's better.\n",
    "\n",
    "Nope\n",
    "\n",
    "- Start thinking about this project. Jot down some thoughts (bullets are ok) on how you would approach this project? Ex: try to identify what the parts of the project are, and in what order you would do them in.\n",
    "\n",
    "Need to determine the backend of the app and how that information will flow and be controlled.\n",
    "    This will need a flow diagram and CLI testing to get right.\n",
    "Need to detefmine a front end that displays the allows the functionallity to be fairly tested without taking too much time to develop."
   ]
  }
 ],
 "metadata": {
  "language_info": {
   "name": "python"
  },
  "orig_nbformat": 4
 },
 "nbformat": 4,
 "nbformat_minor": 2
}

{
 "cells": [
  {
   "cell_type": "markdown",
   "metadata": {},
   "source": [
    "# Python HW 1\n",
    "- This is part 1 for the Python refresher \n",
    "- Unlike the\n",
    "- Each part is worth 1 point\n",
    "- As long as you try \"something\" I will give that point\n",
    "- Use + Code to create new code cells if you want to experiment\n",
    "- It might be smart to use the jupyter run-by-line debugger and watch the variable values. I've also exported this notebook in a .py, in case you want to you a real debugger.\n",
    "- Solutions are at the end but only look at them after you've really tried to solve it first!\n",
    "- It's perfectly fine if you have a different solution than mine - as long as it works\n",
    "- Once you're done, please create a html export of your notebook and hand it in as a separate file, in addition to this notebook"
   ]
  },
  {
   "cell_type": "markdown",
   "metadata": {},
   "source": [
    "### 1) slice, append, join\n",
    "- From L make a list Ls that contains `[\"Hi\",\"my\", \"name\", \"is\", \"Chris\"]`\n",
    "- use slice, index, append, +, whatever works!\n",
    "- join Ls with single spaces, into this string s: `\"Hi my name is Chris\"`"
   ]
  },
  {
   "cell_type": "code",
   "execution_count": 10,
   "metadata": {},
   "outputs": [
    {
     "name": "stdout",
     "output_type": "stream",
     "text": [
      "['Hi', 'my', 'name', 'is', 'Chris']\n",
      "Hi my name is Chris\n"
     ]
    }
   ],
   "source": [
    "L = [\"Start\", \"Hi\",\"my\", \"name\", \"is\", \"Chris\", \"End\"]\n",
    "Ls = L[1:6]\n",
    "print(Ls)\n",
    "s = ' '.join(Ls)\n",
    "print(s)\n",
    "gfgf"
   ]
  },
  {
   "attachments": {},
   "cell_type": "markdown",
   "metadata": {},
   "source": [
    "###  2) Print out sentences\n",
    "- Task: Break the string s into sentences (which end in a .), count them and print them out using a loop:\n",
    "- result: (I truncated them with ...)\n",
    "\n",
    "```\n",
    "Python is an interpreted, high-level, general-purpose programming language\n",
    "Created by Guido van Rossum and first released in 1991, Python ...\n",
    "Its language constructs and object-oriented approach aim to help programmers ...\n",
    "```"
   ]
  },
  {
   "cell_type": "code",
   "execution_count": 17,
   "metadata": {},
   "outputs": [
    {
     "name": "stdout",
     "output_type": "stream",
     "text": [
      "Python is an interpreted, high-level, general-purpose programming language\n",
      "Created by Guido van Rossum and first released in 1991, Python's design philosophy emphasizes code readability with its notable use of significant whitespace\n",
      "Its language constructs and object-oriented approach aim to help programmers write clear, logical code for small and large-scale projects.\n"
     ]
    }
   ],
   "source": [
    "s = \"Python is an interpreted, high-level, general-purpose programming language. Created by Guido van Rossum and first released in 1991, Python's design philosophy emphasizes code readability with its notable use of significant whitespace. Its language constructs and object-oriented approach aim to help programmers write clear, logical code for small and large-scale projects.\"\n",
    "\n",
    "sentences = s.split(sep='. ')\n",
    "\n",
    "for sentence in sentences:\n",
    "    print(sentence)"
   ]
  },
  {
   "cell_type": "markdown",
   "metadata": {},
   "source": [
    "### part 3: print out separate words\n",
    " Task: \n",
    " - break s into a list of words (i.e. now separated by space)\n",
    " - print out the word list (with a loop) so that every 2. word is in full uppercase.\n",
    " - optionally remove all periods and commas\n",
    " - result:\n",
    " ```\n",
    " Python\n",
    " IS\n",
    " an\n",
    " INTERPRETED\n",
    " high-level\n",
    " GENERAL-PURPOSE\n",
    " programming\n",
    " LANGUAGE\n",
    " ```"
   ]
  },
  {
   "cell_type": "code",
   "execution_count": 28,
   "metadata": {},
   "outputs": [
    {
     "name": "stdout",
     "output_type": "stream",
     "text": [
      "Python\n",
      "IS\n",
      "an\n",
      "INTERPRETED\n",
      "high-level\n",
      "GENERAL-PURPOSE\n",
      "programming\n",
      "LANGUAGE\n"
     ]
    }
   ],
   "source": [
    "s = \"Python is an interpreted, high-level, general-purpose programming language.\"\n",
    "\n",
    "s = s.replace(',','').replace('.','')\n",
    "words = s.split(sep=' ')\n",
    "for i in range(0,len(words),2):\n",
    "    print(words[i])\n",
    "    print((words[i+1]).upper())"
   ]
  },
  {
   "attachments": {},
   "cell_type": "markdown",
   "metadata": {},
   "source": [
    "### part 4 - Abbreviate a string\n",
    "- task: abbreviate a potentially long string s to have only the x first and x last chars with ... in between.\n",
    "- for x = 5 this would be: \"A very long description\" => \"A ver...ption\" (... is called filler).\n",
    "- In a loop, set x from 5 to and to 15 and print out x and the abbreviated version:\n",
    "```\n",
    "5 A ver...ption\n",
    "6 A very...iption\n",
    "7 A very ...ription\n",
    "8 A very l...cription\n",
    "9 A very lo...scription\n",
    "10 A very lon...escription\n",
    "11 A very long description\n",
    "12 A very long description\n",
    "13 A very long description\n",
    "14 A very long description\n",
    "```\n",
    "- Note that there'll be an issue where the result would actually be longer(!) than the un-abbreviated s. \n",
    "- For these cases, do not perform your abbreviation, simply print out s. Note that this\n",
    " should work for any other string a or filler as well, so don't hardcode things!\n",
    " \n",
    " Optional:\n",
    "- write a general function `abbr(s, filler=\"...\", total_width=15)` which abbreviates `s`\n",
    " to `total_width` chars and uses the string `filler` in between them. Again, make sure the result is not longer than s!\n",
    "- Have the unction return a list of strings and print out that list outside the function using a for loop\n",
    "- call your function a couple of times with different parameters and also test edge cases"
   ]
  },
  {
   "cell_type": "code",
   "execution_count": 84,
   "metadata": {},
   "outputs": [
    {
     "name": "stdout",
     "output_type": "stream",
     "text": [
      "5 A ver...ption\n",
      "6 A very...iption\n",
      "7 A very ...ription\n",
      "8 A very l...cription\n",
      "9 A very lo...scription\n",
      "10 A very lon...escription\n",
      "11 A very long description\n",
      "12 A very long description\n",
      "13 A very long description\n",
      "14 A very long description\n"
     ]
    }
   ],
   "source": [
    "# Using a for loop to modify the amount of letters retained on either end of a string.\n",
    "# Printing off the string for a range of values from 5 to 15\n",
    "# Above a value of 11 the entire string is retained and printed as expected\n",
    "\n",
    "import math\n",
    "s = \"A very long description\" # a long string\n",
    "l = len(s)\n",
    "filler = '...'\n",
    "for i in range(5,15):\n",
    "    if i < math.floor(l/2):\n",
    "        print(str(i)+\" \"+s[0:i]+filler+s[l-i:l])\n",
    "    else:\n",
    "        print(str(i)+\" \"+ s[:])\n",
    "    "
   ]
  },
  {
   "cell_type": "code",
   "execution_count": 85,
   "metadata": {},
   "outputs": [
    {
     "name": "stdout",
     "output_type": "stream",
     "text": [
      "Total Width:15\n",
      "7 A very  ... ription\n"
     ]
    }
   ],
   "source": [
    "# Next wanted to put the logic into a function that could be called.  \n",
    "\n",
    "s = \"A very long description\" # a long string\n",
    "tw = 15\n",
    "\n",
    "def abbr(s, filler=\"...\", total_width=tw):\n",
    "    l = len(s)\n",
    "    if total_width > l:\n",
    "        lst = s.split(sep=\" \")\n",
    "    else:\n",
    "        i = int((total_width)/2)\n",
    "        lst = [str(i),s[0:i],filler,s[l-i:l]]\n",
    "\n",
    "    return(lst)\n",
    "\n",
    "lst = abbr(s)\n",
    "print(\"Total Width:\"+str(tw)+\"\\n\"+' '.join(lst))"
   ]
  },
  {
   "cell_type": "code",
   "execution_count": 86,
   "metadata": {},
   "outputs": [
    {
     "name": "stdout",
     "output_type": "stream",
     "text": [
      "Total Width:3\n",
      "1 A ... n\n",
      "Total Width:4\n",
      "2 A  ... on\n",
      "Total Width:5\n",
      "2 A  ... on\n",
      "Total Width:6\n",
      "3 A v ... ion\n",
      "Total Width:7\n",
      "3 A v ... ion\n",
      "Total Width:8\n",
      "4 A ve ... tion\n",
      "Total Width:9\n",
      "4 A ve ... tion\n",
      "Total Width:10\n",
      "5 A ver ... ption\n",
      "Total Width:11\n",
      "5 A ver ... ption\n",
      "Total Width:12\n",
      "6 A very ... iption\n",
      "Total Width:13\n",
      "6 A very ... iption\n",
      "Total Width:14\n",
      "7 A very  ... ription\n",
      "Total Width:15\n",
      "7 A very  ... ription\n",
      "Total Width:16\n",
      "8 A very l ... cription\n",
      "Total Width:17\n",
      "8 A very l ... cription\n",
      "Total Width:18\n",
      "9 A very lo ... scription\n",
      "Total Width:19\n",
      "9 A very lo ... scription\n",
      "Total Width:20\n",
      "10 A very lon ... escription\n",
      "Total Width:21\n",
      "10 A very lon ... escription\n",
      "Total Width:22\n",
      "11 A very long ... description\n",
      "Total Width:23\n",
      "11 A very long ... description\n",
      "Total Width:24\n",
      "A very long description\n"
     ]
    }
   ],
   "source": [
    "# Next I wanted to verify that the functon was working as expected on a range of values from 3 to 25.\n",
    "# Range was chosen since the filler is length 3 and non removeable and the length of the string is 24.\n",
    "# This test uncovered a bug in the function where if the total width was even, the function would skip adding a letter so that it can remain symetrical\n",
    "# I didn't think retaining symetery was as important as maintaining the request total width so I want to fix this\n",
    "\n",
    "s = \"A very long description\" # a long string\n",
    "\n",
    "def abbr(s, total_width, filler=\"...\"):\n",
    "    l = len(s)\n",
    "    if total_width > l:\n",
    "        lst = s.split(sep=\" \")\n",
    "    else:\n",
    "        i = int((total_width)/2)\n",
    "        lst = [str(i),s[0:i],filler,s[l-i:l]]\n",
    "\n",
    "    return(lst)\n",
    "\n",
    "for i in range(3,25):\n",
    "    lst = abbr(s,i)\n",
    "    print(\"Total Width:\"+str(i)+\"\\n\"+' '.join(lst))"
   ]
  },
  {
   "cell_type": "code",
   "execution_count": 120,
   "metadata": {},
   "outputs": [
    {
     "name": "stdout",
     "output_type": "stream",
     "text": [
      "Max Len     Output\n",
      "5           A  ... ion\n",
      "6           A v ... ion\n",
      "7           A v ... tion\n",
      "8           A ve ... tion\n",
      "9           A ve ... ption\n",
      "10          A ver ... ption\n",
      "11          A ver ... iption\n",
      "12          A very ... iption\n",
      "13          A very ... ription\n",
      "14          A very  ... ription\n",
      "15          A very  ... cription\n",
      "16          A very l ... cription\n",
      "17          A very l ... scription\n",
      "18          A very lo ... scription\n",
      "19          A very lo ... escription\n",
      "20          A very lon ... escription\n",
      "21          A very lon ... description\n",
      "22          A very long description\n",
      "23          A very long description\n",
      "\n",
      "\n",
      "\n",
      "\n",
      " ... \n",
      "test\n",
      "  \n",
      "test\n",
      "A very long description\n",
      " .................................... \n"
     ]
    }
   ],
   "source": [
    "# Creating two seperate variables to independently dictate how many letters are retained on the front and the back end of the string\n",
    "# Doing this fixed the bug and the output is now as expected\n",
    "# Notably I didn't get the same final answer as below but from how I understand the requirements my solution is correct\n",
    "# If the max width is 0 there shouldn't be any output.  In the sample solution there's still an output with total_width == 0.  This seems to go against the requirements for the function.\n",
    "\n",
    "\n",
    "s = \"A very long description\" # a long string\n",
    "tw = 15\n",
    "\n",
    "def abbr(s, filler=\"...\",total_width=tw):\n",
    "    l = len(s)\n",
    "    if total_width >= l-1:\n",
    "        return(s)\n",
    "    else:\n",
    "        f = (total_width)/2\n",
    "        if f == int(f):\n",
    "            f = int(f)\n",
    "            b = f\n",
    "        else:\n",
    "            f = int(f)\n",
    "            b = int(f)+1\n",
    "\n",
    "        str = ' '.join([s[0:f],filler,s[l-b:l]])\n",
    "        return(str)\n",
    "\n",
    "\n",
    "\n",
    "# Test (with function)\n",
    "print(\"Max Len\",\"   \",\"Output\")\n",
    "for total_width in range(5, len(s)+1):\n",
    "    if total_width > 9:\n",
    "        tab = \"        \"\n",
    "    else:\n",
    "        tab = \"         \"\n",
    "    print(total_width, tab ,abbr(s, \"...\", total_width))\n",
    "\n",
    "\n",
    "# Edge cases\n",
    "print(abbr(\"\", \"...\", 0))\n",
    "print(abbr(\"\", \"...\", 999))\n",
    "print(abbr(\"\", \"\", 0))\n",
    "print(abbr(\"\", \"\", 999))\n",
    "print(abbr(\"test\", \"...\", 0))\n",
    "print(abbr(\"test\", \"...\", 999))\n",
    "print(abbr(\"test\", \"\", 0))\n",
    "print(abbr(\"test\", \"\", 999))\n",
    "print(abbr(\"A very long description\", \"....................................\", 999))\n",
    "print(abbr(\"A very long description\", \"....................................\", 0))"
   ]
  },
  {
   "cell_type": "code",
   "execution_count": null,
   "metadata": {},
   "outputs": [],
   "source": [
    "''' Solutions below\n",
    "\n",
    "\n",
    "\n",
    "\n",
    "\n",
    "\n",
    "\n",
    "\n",
    "\n",
    "\n",
    "\n",
    "\n",
    "\n",
    "\n",
    "\n",
    "\n",
    "\n",
    "\n",
    "\n",
    "\n",
    "\n",
    "\n",
    "\n",
    "\n",
    "\n",
    "\n",
    "\n",
    "\n",
    "\n",
    "\n",
    "\n",
    "\n",
    "\n",
    "\n",
    "\n",
    "\n",
    "\n",
    "\n",
    "\n",
    "\n",
    "\n",
    "\n",
    "\n",
    "\n",
    "\n",
    "\n",
    "\n",
    "\n",
    "\n",
    "\n",
    "\n",
    "\n",
    "\n",
    "\n",
    "\n",
    "\n",
    "'''"
   ]
  },
  {
   "cell_type": "markdown",
   "metadata": {},
   "source": [
    "### Solutions"
   ]
  },
  {
   "cell_type": "code",
   "execution_count": 2,
   "metadata": {},
   "outputs": [
    {
     "name": "stdout",
     "output_type": "stream",
     "text": [
      "['Hi', 'my', 'name', 'is', 'Chris']\n",
      "Hi my name is Chris\n"
     ]
    }
   ],
   "source": [
    "# solution 1\n",
    "L = [\"Start\", \"Hi\",\"my\", \"name\", \"is\", \"Chris\", \"End\"]\n",
    "Ls = L[1:-1]\n",
    "print(Ls)\n",
    "s = \" \".join(Ls)\n",
    "print(s)"
   ]
  },
  {
   "cell_type": "code",
   "execution_count": 5,
   "metadata": {},
   "outputs": [
    {
     "name": "stdout",
     "output_type": "stream",
     "text": [
      "Python is an interpreted, high-level, general-purpose programming language\n",
      " Created by Guido van Rossum and first released in 1991, Python's design philosophy emphasizes code readability with its notable use of significant whitespace\n",
      " Its language constructs and object-oriented approach aim to help programmers write clear, logical code for small and large-scale projects\n",
      "\n"
     ]
    }
   ],
   "source": [
    "# solution 2\n",
    "s = \"Python is an interpreted, high-level, general-purpose programming language. Created by Guido van Rossum and first released in 1991, Python's design philosophy emphasizes code readability with its notable use of significant whitespace. Its language constructs and object-oriented approach aim to help programmers write clear, logical code for small and large-scale projects.\"\n",
    "sentence_list = s.split('.')\n",
    "for e in sentence_list:\n",
    "    print(e)"
   ]
  },
  {
   "cell_type": "code",
   "execution_count": 6,
   "metadata": {},
   "outputs": [
    {
     "name": "stdout",
     "output_type": "stream",
     "text": [
      "Python\n",
      "IS\n",
      "an\n",
      "INTERPRETED\n",
      "high-level\n",
      "GENERAL-PURPOSE\n",
      "programming\n",
      "LANGUAGE\n"
     ]
    }
   ],
   "source": [
    "# solution 3\n",
    "\n",
    "# version 1 - using 1/-1 flipping\n",
    "s = \"Python is an interpreted, high-level, general-purpose programming language.\"\n",
    "\n",
    "words = s.split()\n",
    "make_upper = -1  # we start with 1 for normal print-out, then flip -1 for uppercase, then back, etc.\n",
    "\n",
    "for w in words:\n",
    "    w = w.replace('.', '') # replace . with empty list\n",
    "    w = w.replace(',', '') # replace , with empty list\n",
    "    if make_upper == 1:\n",
    "        print(w.upper())\n",
    "    else:\n",
    "        print(w)\n",
    "    make_upper *= -1 # flip from 1 to -1 or vice versa"
   ]
  },
  {
   "cell_type": "code",
   "execution_count": 7,
   "metadata": {},
   "outputs": [
    {
     "name": "stdout",
     "output_type": "stream",
     "text": [
      "Python\n",
      "IS\n",
      "an\n",
      "INTERPRETED\n",
      "high-level\n",
      "GENERAL-PURPOSE\n",
      "programming\n",
      "LANGUAGE\n"
     ]
    }
   ],
   "source": [
    "# version 2 - using a flag (bool variable)\n",
    "s = \"Python is an interpreted, high-level, general-purpose programming language.\"\n",
    "words = s.split()\n",
    "make_upper = False  # we start with False for normal print-out, then flip to True for uppercase, then back, etc.\n",
    "for w in words:\n",
    "    w = w.replace('.', '') # replace . with empty list\n",
    "    w = w.replace(',', '') # replace , with empty list\n",
    "    if make_upper == True:\n",
    "        print(w.upper())\n",
    "        make_upper = False # it's currently True, so set to False\n",
    "    else:\n",
    "        print(w)\n",
    "        make_upper = True # it must currently be False, so set to True"
   ]
  },
  {
   "cell_type": "code",
   "execution_count": 8,
   "metadata": {},
   "outputs": [
    {
     "name": "stdout",
     "output_type": "stream",
     "text": [
      "5 A ver...ption\n",
      "6 A very...iption\n",
      "7 A very ...ription\n",
      "8 A very l...cription\n",
      "9 A very lo...scription\n",
      "10 A very lon...escription\n",
      "11 A very long description\n",
      "12 A very long description\n",
      "13 A very long description\n",
      "14 A very long description\n"
     ]
    }
   ],
   "source": [
    "# solution 4\n",
    "\n",
    "# version 1: without a function\n",
    "s = \"A very long description\" # a long string\n",
    "filler = \"...\"\n",
    "\n",
    "for x in range(5, 15):\n",
    "    # check if abbreviation would be longer than s\n",
    "    if x * 2 + len(filler) > len(s):\n",
    "        print(x, s)\n",
    "    else:\n",
    "        abb_str = s[0:x] + filler + s[-x:] # slice off ends and glue together with filler chars\n",
    "        print(x, abb_str)\n",
    "\n",
    "\n"
   ]
  },
  {
   "cell_type": "code",
   "execution_count": 116,
   "metadata": {},
   "outputs": [
    {
     "name": "stdout",
     "output_type": "stream",
     "text": [
      "5 A v...on\n",
      "6 A v...ion\n",
      "7 A ve...ion\n",
      "8 A ve...tion\n",
      "9 A ver...tion\n",
      "10 A ver...ption\n",
      "11 A very...ption\n",
      "12 A very...iption\n",
      "13 A very ...iption\n",
      "14 A very ...ription\n",
      "15 A very l...ription\n",
      "16 A very l...cription\n",
      "17 A very lo...cription\n",
      "18 A very lo...scription\n",
      "19 A very lon...scription\n",
      "20 A very lon...escription\n",
      "21 A very long description\n",
      "22 A very long description\n",
      "23 A very long description\n",
      "\n",
      "\n",
      "\n",
      "\n",
      "test\n",
      "test\n",
      "test\n",
      "test\n",
      "A very long description\n",
      "A very long description\n"
     ]
    }
   ],
   "source": [
    "# version 2: with function\n",
    "\n",
    "def abbr(s, filler=\"...\", total_width=15):\n",
    "    \"returns a copy of s abbreviated to total_width with filler in the middle\" \n",
    "\n",
    "    x = total_width // 2 # integer division\n",
    "    rem = total_width % 2 # remainder will be 1 if width is odd\n",
    "    abb_str = s[0:x+rem] + filler + s[-x:] # for odd width, add one to front\n",
    "    if len(abb_str) > len(s):\n",
    "        return s\n",
    "    return abb_str\n",
    "\n",
    "# Test (with function)\n",
    "s = \"A very long description\"\n",
    "for total_width in range(5, len(s)+1):\n",
    "    print(total_width, abbr(s, \"...\", total_width))\n",
    "\n",
    "# Edge cases\n",
    "print(abbr(\"\", \"...\", 0))\n",
    "print(abbr(\"\", \"...\", 999))\n",
    "print(abbr(\"\", \"\", 0))\n",
    "print(abbr(\"\", \"\", 999))\n",
    "print(abbr(\"test\", \"...\", 0))\n",
    "print(abbr(\"test\", \"...\", 999))\n",
    "print(abbr(\"test\", \"\", 0))\n",
    "print(abbr(\"test\", \"\", 999))\n",
    "print(abbr(\"A very long description\", \"....................................\", 999))\n",
    "print(abbr(\"A very long description\", \"....................................\", 0))"
   ]
  },
  {
   "cell_type": "code",
   "execution_count": null,
   "metadata": {},
   "outputs": [],
   "source": []
  }
 ],
 "metadata": {
  "interpreter": {
   "hash": "1813b1874f6f84418af257d52e08e51b77c1fa4a78b2eeb48d9f803ad6bb1049"
  },
  "kernelspec": {
   "display_name": "Python 3.9.7 ('base')",
   "language": "python",
   "name": "python3"
  },
  "language_info": {
   "codemirror_mode": {
    "name": "ipython",
    "version": 3
   },
   "file_extension": ".py",
   "mimetype": "text/x-python",
   "name": "python",
   "nbconvert_exporter": "python",
   "pygments_lexer": "ipython3",
   "version": "3.12.5"
  },
  "orig_nbformat": 4
 },
 "nbformat": 4,
 "nbformat_minor": 2
}

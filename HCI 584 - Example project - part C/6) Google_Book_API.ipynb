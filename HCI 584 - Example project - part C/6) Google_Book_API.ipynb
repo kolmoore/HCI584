{
 "cells": [
  {
   "cell_type": "markdown",
   "metadata": {},
   "source": [
    "### Google ebook reader app - Part C\n",
    "\n",
    "- In this last part of the Example project assignment we wil:\n",
    "1) Instead of the books.csv data, we will now use the Google Book API (no API key needed!) to search for free ebooks by author or by title\n",
    "2) Refactor the TkInter GUI from part B to use the Google API search \n",
    "3) Add a button to open the result of the search withing a browser-based ebook reader. (Other GUI enhancements, such as showing a thumbnail for the result are optional.)\n",
    "\n",
    "<p>\n",
    "\n",
    "##### Google Books API: https://developers.google.com/books/docs/v1/using\n",
    "\n",
    "\n",
    "- https://developers.google.com/books/docs/v1/using#WorkingVolumes shows how to use a HTTP GET request to search for books in various ways and with various filters.\n",
    "- https://developers.google.com/books/docs/v1/using#api_params is a summary of all parameters\n",
    "- You can dig into these later, for now, let's look at a simple, functional example of a query and analyze its response\n",
    "\n",
    "<p>\n",
    "\n",
    "- We will simulate the query using the requests library (https://requests.readthedocs.io/en/master/), which is a very popular library for making HTTP requests. It is not part of the standard library, so you will need to install it with pip install requests below.\n",
    "- If the query was successful, the response will be a JSON object, which we can parse with the json library (https://docs.python.org/3/library/json.html), which is part of the standard library.\n",
    "- The JSON object will contain a list of books (items), each of which is a dictionary. We can use the pprint library (https://docs.python.org/3/library/pprint.html) to print the dictionary in a more readable format.\n",
    "- Note: we are going to use this API w/o having registered for an API key. This usually works but it is possible that you may get a \"resource exhausted\" error, meaning worldwide more that 20,000,000 API-key-less requests have been made in the last 24 hours. If that happens, you will need to wait a day and try again (although I don't know in what timezone Google counts the 24 hours ...)."
   ]
  },
  {
   "cell_type": "code",
   "execution_count": 1,
   "metadata": {},
   "outputs": [
    {
     "name": "stdout",
     "output_type": "stream",
     "text": [
      "Requirement already satisfied: requests in c:\\python312\\lib\\site-packages (2.32.3)\n",
      "Requirement already satisfied: charset-normalizer<4,>=2 in c:\\python312\\lib\\site-packages (from requests) (3.3.2)\n",
      "Requirement already satisfied: idna<4,>=2.5 in c:\\python312\\lib\\site-packages (from requests) (3.7)\n",
      "Requirement already satisfied: urllib3<3,>=1.21.1 in c:\\python312\\lib\\site-packages (from requests) (2.2.2)\n",
      "Requirement already satisfied: certifi>=2017.4.17 in c:\\python312\\lib\\site-packages (from requests) (2024.6.2)\n",
      "Note: you may need to restart the kernel to use updated packages.\n"
     ]
    },
    {
     "name": "stderr",
     "output_type": "stream",
     "text": [
      "WARNING: Ignoring invalid distribution ~ (c:\\Python312\\Lib\\site-packages)\n",
      "WARNING: Ignoring invalid distribution ~ip (c:\\Python312\\Lib\\site-packages)\n",
      "WARNING: Ignoring invalid distribution ~umpy (c:\\Python312\\Lib\\site-packages)\n",
      "WARNING: Ignoring invalid distribution ~~p (c:\\Python312\\Lib\\site-packages)\n",
      "WARNING: Ignoring invalid distribution ~ (c:\\Python312\\Lib\\site-packages)\n",
      "WARNING: Ignoring invalid distribution ~ip (c:\\Python312\\Lib\\site-packages)\n",
      "WARNING: Ignoring invalid distribution ~umpy (c:\\Python312\\Lib\\site-packages)\n",
      "WARNING: Ignoring invalid distribution ~~p (c:\\Python312\\Lib\\site-packages)\n",
      "WARNING: Ignoring invalid distribution ~ (c:\\Python312\\Lib\\site-packages)\n",
      "WARNING: Ignoring invalid distribution ~ip (c:\\Python312\\Lib\\site-packages)\n",
      "WARNING: Ignoring invalid distribution ~umpy (c:\\Python312\\Lib\\site-packages)\n",
      "WARNING: Ignoring invalid distribution ~~p (c:\\Python312\\Lib\\site-packages)\n"
     ]
    }
   ],
   "source": [
    "%pip install requests --upgrade"
   ]
  },
  {
   "cell_type": "code",
   "execution_count": 2,
   "metadata": {},
   "outputs": [
    {
     "data": {
      "text/plain": [
       "<Response [200]>"
      ]
     },
     "metadata": {},
     "output_type": "display_data"
    },
    {
     "name": "stdout",
     "output_type": "stream",
     "text": [
      "https://www.googleapis.com/books/v1/volumes?q=inauthor%3A%22Amy+Krouse+Rosenthal%22+%2Bintitle%3A%22I+Wish+You+More%22&maxResults=3&orderBy=relevance&langRestrict=en\n"
     ]
    }
   ],
   "source": [
    "import requests\n",
    "from pprint import pprint\n",
    "\n",
    "query = 'intitle:\"Human Computer Interaction\"' # search for books by title, \n",
    "# multi word search terms have to wrapped into \"\", so use '' to make a string with \"\" inside\n",
    "#query = \"subject:Biology\" # search for books by subject\n",
    "#query = 'inauthor:\"Agatha Christie\"'\n",
    "query= 'inauthor:\"Amy Krouse Rosenthal\" +intitle:\"I Wish You More\"'  \n",
    "url = \"https://www.googleapis.com/books/v1/volumes\"\n",
    "params = {  \"q\": query, \n",
    "            \"maxResults\": 3, # max for this is 40\n",
    "            #\"filter\":\"free-ebooks\", # comment this out to get all results (not just free ebooks)\n",
    "            \"orderBy\":\"relevance\", \n",
    "            #\"orderBy\":\"newest\",\n",
    "            \"langRestrict\":\"en\"\n",
    "            }\n",
    "response = requests.get('https://www.googleapis.com/books/v1/volumes', params=params)\n",
    "raw_response = requests.get(url, params=params) # make request to API\n",
    "display(raw_response) # 200 means success\n",
    "print(raw_response.url) # click on this to see the data in a online json viewer\n"
   ]
  },
  {
   "cell_type": "code",
   "execution_count": 3,
   "metadata": {},
   "outputs": [],
   "source": [
    "# write JSON payload into a .json file so we can look it in a separate viewer\n",
    "with open(\"book.json\", \"w+\") as fo:\n",
    "    print(raw_response.text, file=fo)"
   ]
  },
  {
   "cell_type": "code",
   "execution_count": 4,
   "metadata": {},
   "outputs": [
    {
     "name": "stdout",
     "output_type": "stream",
     "text": [
      "3\n",
      "{'accessInfo': {'accessViewStatus': 'SAMPLE',\n",
      "                'country': 'US',\n",
      "                'embeddable': True,\n",
      "                'epub': {'acsTokenLink': 'http://books.google.com/books/download/I_Wish_You_More-sample-epub.acsm?id=oOBwBgAAQBAJ&format=epub&output=acs4_fulfillment_token&dl_type=sample&source=gbs_api',\n",
      "                         'isAvailable': True},\n",
      "                'pdf': {'acsTokenLink': 'http://books.google.com/books/download/I_Wish_You_More-sample-pdf.acsm?id=oOBwBgAAQBAJ&format=pdf&output=acs4_fulfillment_token&dl_type=sample&source=gbs_api',\n",
      "                        'isAvailable': True},\n",
      "                'publicDomain': False,\n",
      "                'quoteSharingAllowed': False,\n",
      "                'textToSpeechPermission': 'ALLOWED',\n",
      "                'viewability': 'PARTIAL',\n",
      "                'webReaderLink': 'http://play.google.com/books/reader?id=oOBwBgAAQBAJ&hl=&source=gbs_api'},\n",
      " 'etag': 'uMU98Y2d8CQ',\n",
      " 'id': 'oOBwBgAAQBAJ',\n",
      " 'kind': 'books#volume',\n",
      " 'saleInfo': {'buyLink': 'https://play.google.com/store/books/details?id=oOBwBgAAQBAJ&rdid=book-oOBwBgAAQBAJ&rdot=1&source=gbs_api',\n",
      "              'country': 'US',\n",
      "              'isEbook': True,\n",
      "              'listPrice': {'amount': 10.99, 'currencyCode': 'USD'},\n",
      "              'offers': [{'finskyOfferType': 1,\n",
      "                          'giftable': True,\n",
      "                          'listPrice': {'amountInMicros': 10990000, 'currencyCode': 'USD'},\n",
      "                          'retailPrice': {'amountInMicros': 10990000, 'currencyCode': 'USD'}}],\n",
      "              'retailPrice': {'amount': 10.99, 'currencyCode': 'USD'},\n",
      "              'saleability': 'FOR_SALE'},\n",
      " 'searchInfo': {'textSnippet': 'Whether celebrating life&#39;s joyous milestones, sharing words of '\n",
      "                               'encouragement, or observing the wonder of everyday moments, this '\n",
      "                               'sweet book is for wishers of all ages!'},\n",
      " 'selfLink': 'https://www.googleapis.com/books/v1/volumes/oOBwBgAAQBAJ',\n",
      " 'volumeInfo': {'allowAnonLogging': True,\n",
      "                'authors': ['Amy Krouse Rosenthal'],\n",
      "                'canonicalVolumeLink': 'https://play.google.com/store/books/details?id=oOBwBgAAQBAJ',\n",
      "                'categories': ['Juvenile Nonfiction'],\n",
      "                'contentVersion': '1.7.5.0.preview.3',\n",
      "                'description': \"The #1 New York Times bestselling children's book Amy Krouse \"\n",
      "                               'Rosenthal and Tom Lichtenheld have combined their extraordinary '\n",
      "                               \"talents to create an inspirational book that's full of endless \"\n",
      "                               'good wishes. Wishes for curiosity and wonder, for friendship and '\n",
      "                               \"strength, laughter and peace. Whether celebrating life's joyous \"\n",
      "                               'milestones, sharing words of encouragement, or observing the '\n",
      "                               'wonder of everyday moments, this sweet book is for wishers of all '\n",
      "                               'ages! I Wish You More is the perfect graduation gift as well as a '\n",
      "                               'must-have, uplifting read sure to bring positivity to all who read '\n",
      "                               'it.',\n",
      "                'imageLinks': {'smallThumbnail': 'http://books.google.com/books/content?id=oOBwBgAAQBAJ&printsec=frontcover&img=1&zoom=5&edge=curl&source=gbs_api',\n",
      "                               'thumbnail': 'http://books.google.com/books/content?id=oOBwBgAAQBAJ&printsec=frontcover&img=1&zoom=1&edge=curl&source=gbs_api'},\n",
      "                'industryIdentifiers': [{'identifier': '9781452150376', 'type': 'ISBN_13'},\n",
      "                                        {'identifier': '1452150370', 'type': 'ISBN_10'}],\n",
      "                'infoLink': 'https://play.google.com/store/books/details?id=oOBwBgAAQBAJ&source=gbs_api',\n",
      "                'language': 'en',\n",
      "                'maturityRating': 'NOT_MATURE',\n",
      "                'pageCount': 37,\n",
      "                'panelizationSummary': {'containsEpubBubbles': False,\n",
      "                                        'containsImageBubbles': False},\n",
      "                'previewLink': 'http://books.google.com/books?id=oOBwBgAAQBAJ&printsec=frontcover&dq=inauthor:%22Amy+Krouse+Rosenthal%22+%2Bintitle:%22I+Wish+You+More%22&hl=&cd=1&source=gbs_api',\n",
      "                'printType': 'BOOK',\n",
      "                'publishedDate': '2015-03-31',\n",
      "                'publisher': 'Chronicle Books',\n",
      "                'readingModes': {'image': True, 'text': True},\n",
      "                'title': 'I Wish You More'}}\n"
     ]
    }
   ],
   "source": [
    "items_dict = raw_response.json() # .json() converts json payload to python dictionary\n",
    "print(len(items_dict[\"items\"])) # how many items?\n",
    "pprint(items_dict[\"items\"][0], width=100) # show item 1"
   ]
  },
  {
   "cell_type": "markdown",
   "metadata": {},
   "source": [
    "- in our dictionary, the key 'items' contains a list of books. (totalItems is the total number of books that the google book store has for this query)\n",
    "- let's loop over all items\n",
    "- Within each item we can see that the title is in the __volumeInfo__ dictionary, and the authors are in a list in the authors key of that dictionary. The date and description are also in the volumeInfo dictionary. (Note that not all books have a description!)\n",
    "\n",
    "```json\n",
    "\"volumeInfo\": {\n",
    "        \"title\": \"Interaction Techniques and Technologies in Human-Computer Interaction\",\n",
    "        \"authors\": [\n",
    "          \"Constantine Stephanidis\",\n",
    "          \"Gavriel Salvendy\"\n",
    "        ],\n",
    "        \"publishedDate\": \"2024-08-07\",\n",
    "        \"description\": \"The reader of this book will gain an in-depth understanding ...\"\n",
    "}\n",
    "```\n",
    "\n",
    "- (volumeInfo also has a link to a thumbnail image for the book, which we could use to display a thumbnail in our GUI.)"
   ]
  },
  {
   "cell_type": "code",
   "execution_count": 5,
   "metadata": {},
   "outputs": [
    {
     "name": "stdout",
     "output_type": "stream",
     "text": [
      "I Wish You More\n",
      "by Amy Krouse Rosenthal\n",
      "The #1 New York Times bestselling children's book Amy Krouse Rosenthal and Tom Lichtenheld have combined their extraordinary talents to create an inspirational book that's full of endless good wishes. Wishes for curiosity and wonder, for friendship and strength, laughter and peace. Whether celebrating life's joyous milestones, sharing words of encouragement, or observing the wonder of everyday moments, this sweet book is for wishers of all ages! I Wish You More is the perfect graduation gift as well as a must-have, uplifting read sure to bring positivity to all who read it.\n",
      "\n",
      "\n",
      "Yes Day!\n",
      "by Amy Krouse Rosenthal\n",
      "Soon to be a Netflix Film in March 2021! From the New York Times bestselling creators of I Wish You More, Amy Krouse Rosenthal and Tom Lichtenheld, a funny look at the one day of the year that can compete with Christmas for children's affection: YES DAY! No matter how silly the request, there is one day a year when kids always receive a positive response: Can I have pizza for breakfast? YES! Can we have a food fight? YES! Can I stay up really late? YES! The simple text coupled with delightful illustrations will send kids on a journey into their wildest wishes. With humor and appreciation for life's little pleasures, Yes Day! captures the excitement of being a kid. Jennifer Garner uses Yes Day! as inspiration for an annual magical day of all things YES with her children. She was a little worn out after 24 hours of pure YES in 2017, but she still praised Yes Day! as \"a fantastic children's book.\"\n",
      "\n",
      "\n",
      "On the Spot\n",
      "by Amy Krouse Rosenthal\n",
      "Transform an ordinary story into a silly one with stickers or found objects in this Mad Libs–esque adventure! For fans of Press Here and Tap the Magic Tree. New York Times bestselling author Amy Krouse Rosenthal (Uni the Unicorn and I Wish You More), Lea Redmond, and Sanne te Loo have created a picture book with a story that rhymes and very lovely illustrations. But, oops—they’ve left out some important pieces of the story . . . and it’s up to YOU to fill them in! Step 1: Grab any small object or pick stickers from the back of the book. Step 2: Place them on the blank spots as you read along. Step 3: Laugh at the crazy story you’ve just created. Step 4: Pick new items and start all over again! Story time will take on a new dimension of play as kids use the stickers or scamper in search of the most hilarious items to occupy the blank spaces in the text. The endlessly innovative Amy Krouse Rosenthal and Lea Redmond bring us a way-outside-the-box adventure in which readers get to bend the rules and feel a bit rebellious as they tamper with the ordinary and expected.\n",
      "\n",
      "\n"
     ]
    }
   ],
   "source": [
    "if items_dict['totalItems'] > 0: # will be 0 if nothing was found\n",
    "    for book in items_dict[\"items\"]:\n",
    "        #pprint(book)\n",
    "        #print()\n",
    "        volumeInfo = book[\"volumeInfo\"]\n",
    "        author = volumeInfo[\"authors\"][0] # get the first author only\n",
    "        title = volumeInfo[\"title\"]\n",
    "        description = volumeInfo[\"description\"]\n",
    "        print(f\"{title}\\nby {author}\\n{description}\\n\\n\")"
   ]
  },
  {
   "cell_type": "markdown",
   "metadata": {},
   "source": [
    "- Note: it's possible that an item doesn't have a description, so we will need to defend against that. (We could also check for other keys that might be missing, such as authors.)   \n",
    "\n",
    "\n",
    "#### Finding the ISBN number\n",
    "- if we want to open the book in a browser-based ebook reader, we will need to find the ISBN number for the book. \n",
    "- The ISBN number is a unique identifier for the book, and is used in the URL for the ebook reader.\n",
    "- ISBN10 can also be used to get a link to the book on amazon: http://www.amazon.com/dp/1032370033 \n",
    "- The ISBN number is in the `industryIdentifiers` list, which contains a dictionary for each type of identifier. \n",
    "- `industryIdentifiers` itself is a key in the dict `book[\"volumeInfo\"]`"
   ]
  },
  {
   "cell_type": "code",
   "execution_count": 6,
   "metadata": {},
   "outputs": [
    {
     "name": "stdout",
     "output_type": "stream",
     "text": [
      "[{'identifier': '9781101932308', 'type': 'ISBN_13'},\n",
      " {'identifier': '1101932309', 'type': 'ISBN_10'}]\n"
     ]
    }
   ],
   "source": [
    "# using the last book from the loop above as example\n",
    "pprint(book[\"volumeInfo\"]['industryIdentifiers'])"
   ]
  },
  {
   "cell_type": "markdown",
   "metadata": {},
   "source": [
    "\n",
    "- Here, I'm using try/except to handle the case where there is no industryIdentifiers\n",
    "- if you do have a industryIdentifiers, it's still possible that there is no ISBN 10 or 13 in it (there are other types of identifiers, but we can't use those for the ebook reader)\n",
    "- the use try/except for cases where there's no industryIdentifiers, or no ISBN 10 or 13 \n",
    "- This is also how we could defend against missing authors or description. \n",
    "- Finally, it is possible to get duplicates based on title and author (maybe 2 different editions?)\n",
    "- we will prevent this by adding a title and author tuple `(title, author)` to a set (which cannot contain duplicates) and compare a new book against this set. If we have it already, we skip it otherwise we add it."
   ]
  },
  {
   "cell_type": "code",
   "execution_count": 7,
   "metadata": {},
   "outputs": [
    {
     "name": "stdout",
     "output_type": "stream",
     "text": [
      "I Wish You More by Amy Krouse Rosenthal\n",
      "ISBN13=9781452150376\n",
      "ISBN10=1452150370\n",
      "\n",
      "Yes Day! by Amy Krouse Rosenthal\n",
      "ISBN13=9780061965272\n",
      "ISBN10=0061965278\n",
      "\n",
      "On the Spot by Amy Krouse Rosenthal\n",
      "ISBN13=9781101932308\n",
      "ISBN10=1101932309\n",
      "\n"
     ]
    }
   ],
   "source": [
    "seen_books = set()  # create a set to store the books we've seen\n",
    "\n",
    "if items_dict['totalItems'] > 0:\n",
    "    for book in items_dict[\"items\"]:\n",
    "        volumeInfo = book[\"volumeInfo\"]\n",
    "        author = volumeInfo[\"authors\"][0] # first author only\n",
    "        title = volumeInfo[\"title\"]\n",
    "        \n",
    "        # prevent duplicates\n",
    "        book_info = (title, author)  # create a tuple with  title and author\n",
    "        if book_info in seen_books:  # if we've already seen this book, skip it\n",
    "            continue\n",
    "        seen_books.add(book_info)  # otherwise add the book to the set \n",
    "\n",
    "        print(f\"{title} by {author}\")\n",
    "        try:\n",
    "            identifier_list = volumeInfo[\"industryIdentifiers\"]\n",
    "        except KeyError:\n",
    "            print(\": no industryIdentifiers for this book\")\n",
    "            continue # skip this book if no chance for an ISBN\n",
    "        else:\n",
    "            isbn = None\n",
    "            for identifier in identifier_list:\n",
    "                if identifier[\"type\"] == \"ISBN_13\":\n",
    "                    isbn = identifier[\"identifier\"]\n",
    "                    print(f\"ISBN13={isbn}\")\n",
    "                elif identifier[\"type\"] == \"ISBN_10\": # prefer ISBN10\n",
    "                    isbn = identifier[\"identifier\"]\n",
    "                    print(f\"ISBN10={isbn}\")\n",
    "            if isbn is None:\n",
    "                print(\"no ISBN found\")\n",
    "        print()"
   ]
  },
  {
   "cell_type": "markdown",
   "metadata": {},
   "source": [
    "### Digging deeper\n",
    "- change the code below so that it also prints the values for publicDomain and textToSpeechPermission\n",
    "- if you use the json viewer, be aware that it will show True as true and False as false ...  "
   ]
  },
  {
   "cell_type": "code",
   "execution_count": 9,
   "metadata": {},
   "outputs": [
    {
     "name": "stdout",
     "output_type": "stream",
     "text": [
      "I Wish You More by Amy Krouse Rosenthal, Is in public domain? False, text-to_speech is ALLOWED\n",
      "Yes Day! by Amy Krouse Rosenthal, Is in public domain? False, text-to_speech is ALLOWED\n",
      "On the Spot by Amy Krouse Rosenthal, Is in public domain? False, text-to_speech is ALLOWED\n"
     ]
    }
   ],
   "source": [
    "if items_dict['totalItems'] > 0:\n",
    "    for book in items_dict[\"items\"]:\n",
    "        volumeInfo = book[\"volumeInfo\"]\n",
    "        author = volumeInfo[\"authors\"][0] # first author only\n",
    "        title = volumeInfo[\"title\"]\n",
    "\n",
    "        # your code here\n",
    "        accessInfo = book[\"accessInfo\"]\n",
    "        inpublicDomain = accessInfo[\"publicDomain\"]  # will be True or False\n",
    "        textToSpeechPermission = accessInfo[\"textToSpeechPermission\"] # will be True or False\n",
    "\n",
    "        print(f\"{title} by {author}, Is in public domain? {inpublicDomain}, text-to_speech is {textToSpeechPermission}\")"
   ]
  },
  {
   "cell_type": "markdown",
   "metadata": {},
   "source": [
    "#### My solution (unhide this cell by clicking to the left of My)"
   ]
  },
  {
   "cell_type": "code",
   "execution_count": null,
   "metadata": {},
   "outputs": [],
   "source": [
    "if items_dict['totalItems'] > 0:\n",
    "    for book in items_dict[\"items\"]:\n",
    "        volumeInfo = book[\"volumeInfo\"]\n",
    "        author = volumeInfo[\"authors\"][0] # first author only\n",
    "        title = volumeInfo[\"title\"]\n",
    "\n",
    "        # your code here\n",
    "        accessInfo = book[\"accessInfo\"]\n",
    "        inpublicDomain = accessInfo[\"publicDomain\"]  \n",
    "        textToSpeechPermission = accessInfo[\"textToSpeechPermission\"]\n",
    "\n",
    "\n",
    "        print(f\"{title} by {author}, Is in public domain? {inpublicDomain}, text-to_speech is {textToSpeechPermission}\")"
   ]
  },
  {
   "cell_type": "markdown",
   "metadata": {},
   "source": [
    "### Wrapping the book search code in a function\n",
    "- let's wrap the search code in a function, so we can test it with different queries\n",
    "- Our app will only display one result, but, given that we could have missing data, let's request 10 results (sorted by relevance) and loop over them until we find one that has all the data we need. \n",
    "- Note that I added another defensive measure by converting potentially unprintable unicode characters to ascii. (This is not strictly necessary, but it makes the output a little cleaner.)\n",
    "- For now we'll print out the title, author, description, and ISBN number for this result but we also need to think about how the book results data connects to the GUI.\n",
    "1) we could return title, author, description, and ISBN number either in a list or in a dictionary\n",
    "2) we could wait until this function has been integrated into the GUI class as a method and then store each information as a class attribute\n",
    "\n",
    "- I prefer the 2. option, so let's just print out the information for now (and not store it) and test if the function works for various queries"
   ]
  },
  {
   "cell_type": "code",
   "execution_count": 10,
   "metadata": {},
   "outputs": [],
   "source": [
    "# function to get info on a book from Google Books API\n",
    "import requests\n",
    "def get_books(query):\n",
    "\n",
    "    url = \"https://www.googleapis.com/books/v1/volumes\"\n",
    "\n",
    "    # create request url from parameters\n",
    "    params = {\"q\": query, \"maxResults\": 10, \n",
    "              #\"filter\":\"free-ebooks\", \n",
    "              \"orderBy\":\"relevance\", \n",
    "              #\"orderBy\":\"newest\",\n",
    "              \"langRestrict\":\"en\"}\n",
    "    raw_response = requests.get(url, params=params) # make request (will be in json format)\n",
    "    \n",
    "    # bail out if we get an error\n",
    "    if raw_response.status_code != 200:\n",
    "        print(f\"Error: {raw_response.status_code}\")\n",
    "        return None\n",
    "    items = raw_response.json() # convert json to dictionary\n",
    "    if items['totalItems'] == 0:\n",
    "        return(\"Nothing found!\")\n",
    "    \n",
    "    for book in items[\"items\"]:\n",
    "        volumeInfo = book[\"volumeInfo\"] # dictionary of book info\n",
    "        title = volumeInfo[\"title\"]\n",
    "        try:\n",
    "            author = volumeInfo[\"authors\"][0] # list of authors, only want first\n",
    "        except KeyError: # not all books have an author\n",
    "            author = \"No author\"\n",
    "        try: # not all books have a description\n",
    "            description = volumeInfo[\"description\"]\n",
    "        except KeyError:    \n",
    "            description = \"No description\"\n",
    "\n",
    "        try:\n",
    "            identifier_list = volumeInfo[\"industryIdentifiers\"]\n",
    "        except KeyError:\n",
    "            continue # skip this book if no chance for an ISBN\n",
    "        else:\n",
    "            isbn = None\n",
    "            for identifier in identifier_list:\n",
    "                if identifier[\"type\"] == \"ISBN_13\":\n",
    "                    isbn = identifier[\"identifier\"]\n",
    "                elif identifier[\"type\"] == \"ISBN_10\":\n",
    "                    isbn = identifier[\"identifier\"]\n",
    "            if isbn is None: \n",
    "                continue\n",
    "\n",
    "        # convert all words to latin to avoid unicode errors\n",
    "        description = description.encode(\"latin-1\", \"ignore\").decode(\"latin-1\")\n",
    "        title = title.encode(\"latin-1\", \"ignore\").decode(\"latin-1\")\n",
    "        author = author.encode(\"latin-1\", \"ignore\").decode(\"latin-1\")\n",
    "        \n",
    "        # return a string with the book info for the first good book we find\n",
    "        # this also breaks out of the loop\n",
    "        return f\"{title}\\n{author}\\nISBN:{isbn}\\n{description}\\n\\n\"     "
   ]
  },
  {
   "cell_type": "code",
   "execution_count": 11,
   "metadata": {},
   "outputs": [
    {
     "name": "stdout",
     "output_type": "stream",
     "text": [
      "inauthor:\"Agatha Christie\"\n",
      "Towards Zero\n",
      "Agatha Christie\n",
      "ISBN:0062006762\n",
      "One of Agatha Christies own ten favorite novels, Towards Zero puts Superintendent Battle and Inspector Leach on the case as they investigate the murder of an elderly widow. What is the connection among a failed suicide attempt, a wrongful accusation of theft against a schoolgirl, and the romantic life of a famous tennis player? To the casual observer, apparently nothing. But when a house party gathers at Gulls Point, the seaside home of an elderly widow, earlier events come to a dramatic head. As Superintendent Battle discovers, it is all part of a carefully laid planfor murder.\n",
      "\n",
      "\n",
      "intitle:\"Linux System Administration\"\n",
      "Pro Linux System Administration\n",
      "Dennis Matotek\n",
      "ISBN:1484220080\n",
      "Implement a SOHO or SMB Linux infrastructure to expand your business and associated IT capabilities. Backed by the expertise and experienced guidance of the authors, this book provides everything you need to move your business forward. Pro Linux System Administration makes it easy for small- to mediumsized businesses to enter the world of zerocost software running on Linux and covers all the distros you might want to use, including Red Hat, Ubuntu, Debian, and CentOS. Pro Linux System Administration takes a layered, componentbased approach to open source business systems, while training system administrators as the builders of business infrastructure. Completely updated for this second edition, Dennis Matotek takes you through an infrastructure-as-code approach, seamlessly taking you through steps along the journey of Linux administration with all you need to master complex systems. This edition now includes Jenkins, Ansible, Logstash and more. What You'll Learn: Understand Linux architecture Build, back up, and recover Linux servers Create basic networks and network services with Linux Build and implement Linux infrastructure and services including mail, web, databases, and file and print Implement Linux security Resolve Linux performance and capacity planning issues Who This Book Is For: Small to mediumsized business owners looking to run their own IT, system administrators considering migrating to Linux, and IT systems integrators looking for an extensible Linux infrastructure management approach.\n",
      "\n",
      "\n",
      "intitle:Gobbledigook\n",
      "Gobbledigook\n",
      "S.A. Cozad\n",
      "ISBN:1105683648\n",
      "S.A. Cozad has compiled a years worth of writting that she sent into magazines and contest. She also was part of some anthologies.\n",
      "\n",
      "\n",
      "subject:Literature\n",
      "The Federalist Papers\n",
      "A. Hamilton\n",
      "ISBN:0230102018\n",
      "Thisbook is distinctive because it will be a political science oriented introduction to The Federalist Papers. As most of the editions have introductions by historians, and some of them quite good, there is no readily available edition with a political science focus. Such a focus would not ignore the historical dimensions of the founding and that particular era, but would supplement this historical background with a concentration on the key questions political scientists tend to ask when reading and teaching The Federalist Papers. Questions of power, separation, blending, federalism, and structural design and how they impact the practice of government, questions we political scientists ask, will be the central feature of this edition. The primary audience for this edition would be courses in American Political Thought, American Government (most of which include components of the Federalist Papers) plus courses on the Presidency, Congress, The Judiciary, and Federalism.\n",
      "\n",
      "\n",
      "Seven Devils\n",
      "Seven Devils\n",
      "L. R. Lam\n",
      "ISBN:0756415810\n",
      "This first book in a feminist space opera duology follows seven resistance fighters who will free the galaxy from the ruthless Tholosian Empire--or die trying. When Eris faked her death, she thought she had left her old life as the heir to the galaxy's most ruthless empire behind. But her recruitment by the Novantaen Resistance, an organization opposed to the empire's voracious expansion, throws her right back into the fray. Eris has been assigned a new mission: to infiltrate a spaceship ferrying deadly cargo and return the intelligence gathered to the Resistance. But her partner for the mission, mechanic and hotshot pilot Cloelia, bears an old grudge against Eris, making an already difficult infiltration even more complicated. When they find the ship, they discover more than they bargained for: three fugitives with firsthand knowledge of the corrupt empire's inner workings. Together, these women possess the knowledge and capabilities to bring the empire to its knees. But the clock is ticking: the new heir to the empire plans to disrupt a peace summit with the only remaining alien empire, ensuring the empires continued expansion. If they can find a way to stop him, they will save the galaxy. If they can't, millions may die.\n",
      "\n",
      "\n"
     ]
    }
   ],
   "source": [
    "query_list = ['inauthor:\"Agatha Christie\"', \n",
    "              'intitle:\"Linux System Administration\"',  \n",
    "              \"intitle:Gobbledigook\", \n",
    "              \"subject:Literature\",  # another way to search, which we won't use (but you could implement!)\n",
    "              \"Seven Devils\"] # without a prefix, searches all fields\n",
    "for query in query_list:\n",
    "    print(query)\n",
    "    print(get_books(query))"
   ]
  },
  {
   "cell_type": "markdown",
   "metadata": {},
   "source": [
    "### Opening the ebook in a browser-based ebook reader\n",
    "- google_ebook_reader.html is a simple HTML file that uses the Google Books API to open an ebook in a browser-based ebook reader\n",
    "- The ISBN number is in the URL for the ebook reader, so we can use the webbrowser library (https://docs.python.org/3/library/webbrowser.html) to open the ebook in a browser-based ebook reader\n",
    "\n",
    "<p>\n",
    "\n",
    "- To programatically create a similar html file with a specific isbn (which we have as result of a successful search) we need to insert (inline) the ISBN number into the HTML file before we have python open it in the browser.\n",
    "- Jinja2 (https://jinja.palletsprojects.com/en/2.11.x/) is a popular templating library that can do this, but it is not part of the standard library, so you will need to install it with pip install jinja2 below."
   ]
  },
  {
   "cell_type": "code",
   "execution_count": null,
   "metadata": {},
   "outputs": [],
   "source": [
    "%pip install jinja2 --upgrade"
   ]
  },
  {
   "cell_type": "markdown",
   "metadata": {},
   "source": [
    "- The function below uses Jinja2 to create a new html file with the ISBN number (as a string) inserted into the template. \n",
    "- the critical lines in the template are:\n",
    "``` html\n",
    "<script>\n",
    "    var viewer = new google.books.DefaultViewer(document.getElementById('viewerCanvas'));\n",
    "    viewer.load('ISBN:{{ isbn }}');\n",
    "</script>\n",
    "```\n",
    "- the `{{ isbn }}` is replaced by the isbn number string when the template is rendered. This done via the context dictionary, which contains the isbn number as a key-value pair.\n",
    "- with 9780425067949 the html file looks like this:\n",
    "``` html    \n",
    "<script>\n",
    "    var viewer = new google.books.DefaultViewer(document.getElementById('viewerCanvas'));\n",
    "    viewer.load('ISBN:9780425067949');\n",
    "</script>\n",
    "```     "
   ]
  },
  {
   "cell_type": "code",
   "execution_count": 1,
   "metadata": {},
   "outputs": [],
   "source": [
    "import webbrowser\n",
    "from jinja2 import Environment, FileSystemLoader\n",
    "import os.path\n",
    "\n",
    "def open_ebook(isbn, title, author):\n",
    "    # Create a Jinja2 environment with a template folder and load the template\n",
    "    env = Environment(loader=FileSystemLoader('.')) # in current folder\n",
    "    template = env.get_template('google_ebook_reader_template.html')\n",
    "\n",
    "    # Create a context dictionary with the ISBN value\n",
    "    context = {'isbn': isbn}\n",
    "\n",
    "    # Render the template with the context\n",
    "    rendered_template = template.render(context)\n",
    "\n",
    "    # Create a temporary HTML file (you can use a unique name if needed)\n",
    "    # this needs to be a absolute file path\n",
    "    temp_html_file = os.path.abspath(f'{title}_by_{author}_ebook.html')\n",
    "\n",
    "    # Write the rendered content to the temporary HTML file\n",
    "    with open(temp_html_file, 'w') as file:\n",
    "        file.write(rendered_template)\n",
    "\n",
    "    # Open the temporary HTML file in a web browser\n",
    "    # file:// is the equivalent to https:// for local html files\n",
    "    webbrowser.open('file://' + temp_html_file) \n",
    "\n",
    "\n",
    "# test it with one of our earlier results: The Murder on the Links by Agatha Christie ISBN:9780425067949\n",
    "open_ebook(\"9780425067949\", \"The Murder on the Links\", \"Agatha Christie\")"
   ]
  }
 ],
 "metadata": {
  "kernelspec": {
   "display_name": "Python 3",
   "language": "python",
   "name": "python3"
  },
  "language_info": {
   "codemirror_mode": {
    "name": "ipython",
    "version": 3
   },
   "file_extension": ".py",
   "mimetype": "text/x-python",
   "name": "python",
   "nbconvert_exporter": "python",
   "pygments_lexer": "ipython3",
   "version": "3.12.4"
  },
  "orig_nbformat": 4
 },
 "nbformat": 4,
 "nbformat_minor": 2
}

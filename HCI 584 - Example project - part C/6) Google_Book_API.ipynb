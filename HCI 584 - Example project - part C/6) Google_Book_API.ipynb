{
 "cells": [
  {
   "cell_type": "markdown",
   "metadata": {},
   "source": [
    "### Google ebook reader app - Part C\n",
    "\n",
    "- In this last part of the Example project assignment we wil:\n",
    "1) Instead of the books.csv data, we will now use the Google Book API (no API key needed!) to search for free ebooks by author or by title\n",
    "2) Refactor the TkInter GUI from part B to use the Google API search \n",
    "3) Add a button to open the result of the search withing a browser-based ebook reader. (Other GUI enhancements, such as showing a thumbnail for the result are optional.)\n",
    "\n",
    "<p>\n",
    "\n",
    "##### Google Books API: https://developers.google.com/books/docs/v1/using\n",
    "\n",
    "\n",
    "- https://developers.google.com/books/docs/v1/using#WorkingVolumes shows how to use a HTTP GET request to search for books in various ways and with various filters.\n",
    "- https://developers.google.com/books/docs/v1/using#api_params is a summary of all parameters\n",
    "- You can dig into these later, for now, let's look at a simple, functional example of a query and analyze its response\n",
    "\n",
    "<p>\n",
    "\n",
    "- We will simulate the query using the requests library (https://requests.readthedocs.io/en/master/), which is a very popular library for making HTTP requests. It is not part of the standard library, so you will need to install it with pip install requests below.\n",
    "- If the query was successful, the response will be a JSON object, which we can parse with the json library (https://docs.python.org/3/library/json.html), which is part of the standard library.\n",
    "- The JSON object will contain a list of books (items), each of which is a dictionary. We can use the pprint library (https://docs.python.org/3/library/pprint.html) to print the dictionary in a more readable format.\n",
    "- Note: we are going to use this API w/o having registered for an API key. This usually works but it is possible that you may get a \"resource exhausted\" error, meaning worldwide more that 20,000,000 API-key-less requests have been made in the last 24 hours. If that happens, you will need to wait a day and try again (although I don't know in what timezone Google counts the 24 hours ...)."
   ]
  },
  {
   "cell_type": "code",
   "execution_count": null,
   "metadata": {},
   "outputs": [],
   "source": [
    "%pip install requests --upgrade"
   ]
  },
  {
   "cell_type": "code",
   "execution_count": 1,
   "metadata": {},
   "outputs": [
    {
     "data": {
      "text/plain": [
       "<Response [200]>"
      ]
     },
     "metadata": {},
     "output_type": "display_data"
    },
    {
     "name": "stdout",
     "output_type": "stream",
     "text": [
      "https://www.googleapis.com/books/v1/volumes?q=inauthor%3A%22Amy+Krouse+Rosenthal%22+%2Bintitle%3A%22I+Wish+You+More%22&maxResults=3&orderBy=relevance&langRestrict=en\n"
     ]
    }
   ],
   "source": [
    "import requests\n",
    "from pprint import pprint\n",
    "\n",
    "query = 'intitle:\"Human Computer Interaction\"' # search for books by title, \n",
    "# multi word search terms have to wrapped into \"\", so use '' to make a string with \"\" inside\n",
    "#query = \"subject:Biology\" # search for books by subject\n",
    "#query = 'inauthor:\"Agatha Christie\"'\n",
    "query= 'inauthor:\"Amy Krouse Rosenthal\" +intitle:\"I Wish You More\"'  \n",
    "url = \"https://www.googleapis.com/books/v1/volumes\"\n",
    "params = {  \"q\": query, \n",
    "            \"maxResults\": 3, # max for this is 40\n",
    "            #\"filter\":\"free-ebooks\", # comment this out to get all results (not just free ebooks)\n",
    "            \"orderBy\":\"relevance\", \n",
    "            #\"orderBy\":\"newest\",\n",
    "            \"langRestrict\":\"en\"\n",
    "            }\n",
    "response = requests.get('https://www.googleapis.com/books/v1/volumes', params=params)\n",
    "raw_response = requests.get(url, params=params) # make request to API\n",
    "display(raw_response) # 200 means success\n",
    "print(raw_response.url) # click on this to see the data in a online json viewer\n"
   ]
  },
  {
   "cell_type": "code",
   "execution_count": 2,
   "metadata": {},
   "outputs": [],
   "source": [
    "# write JSON payload into a .json file so we can look it in a separate viewer\n",
    "with open(\"book.json\", \"w+\") as fo:\n",
    "    print(raw_response.text, file=fo)"
   ]
  },
  {
   "cell_type": "code",
   "execution_count": null,
   "metadata": {},
   "outputs": [],
   "source": [
    "items_dict = raw_response.json() # .json() converts json payload to python dictionary\n",
    "print(len(items_dict[\"items\"])) # how many items?\n",
    "pprint(items_dict[\"items\"][0], width=100) # show item 1"
   ]
  },
  {
   "cell_type": "markdown",
   "metadata": {},
   "source": [
    "- in our dictionary, the key 'items' contains a list of books. (totalItems is the total number of books that the google book store has for this query)\n",
    "- let's loop over all items\n",
    "- Within each item we can see that the title is in the __volumeInfo__ dictionary, and the authors are in a list in the authors key of that dictionary. The date and description are also in the volumeInfo dictionary. (Note that not all books have a description!)\n",
    "\n",
    "```json\n",
    "\"volumeInfo\": {\n",
    "        \"title\": \"Interaction Techniques and Technologies in Human-Computer Interaction\",\n",
    "        \"authors\": [\n",
    "          \"Constantine Stephanidis\",\n",
    "          \"Gavriel Salvendy\"\n",
    "        ],\n",
    "        \"publishedDate\": \"2024-08-07\",\n",
    "        \"description\": \"The reader of this book will gain an in-depth understanding ...\"\n",
    "}\n",
    "```\n",
    "\n",
    "- (volumeInfo also has a link to a thumbnail image for the book, which we could use to display a thumbnail in our GUI.)"
   ]
  },
  {
   "cell_type": "code",
   "execution_count": null,
   "metadata": {},
   "outputs": [],
   "source": [
    "if items_dict['totalItems'] > 0: # will be 0 if nothing was found\n",
    "    for book in items_dict[\"items\"]:\n",
    "        #pprint(book)\n",
    "        #print()\n",
    "        volumeInfo = book[\"volumeInfo\"]\n",
    "        author = volumeInfo[\"authors\"][0] # get the first author only\n",
    "        title = volumeInfo[\"title\"]\n",
    "        description = volumeInfo[\"description\"]\n",
    "        print(f\"{title}\\nby {author}\\n{description}\\n\\n\")"
   ]
  },
  {
   "cell_type": "markdown",
   "metadata": {},
   "source": [
    "- Note: it's possible that an item doesn't have a description, so we will need to defend against that. (We could also check for other keys that might be missing, such as authors.)   \n",
    "\n",
    "\n",
    "#### Finding the ISBN number\n",
    "- if we want to open the book in a browser-based ebook reader, we will need to find the ISBN number for the book. \n",
    "- The ISBN number is a unique identifier for the book, and is used in the URL for the ebook reader.\n",
    "- ISBN10 can also be used to get a link to the book on amazon: http://www.amazon.com/dp/1032370033 \n",
    "- The ISBN number is in the `industryIdentifiers` list, which contains a dictionary for each type of identifier. \n",
    "- `industryIdentifiers` itself is a key in the dict `book[\"volumeInfo\"]`"
   ]
  },
  {
   "cell_type": "code",
   "execution_count": null,
   "metadata": {},
   "outputs": [],
   "source": [
    "# using the last book from the loop above as example\n",
    "pprint(book[\"volumeInfo\"]['industryIdentifiers'])"
   ]
  },
  {
   "cell_type": "markdown",
   "metadata": {},
   "source": [
    "\n",
    "- Here, I'm using try/except to handle the case where there is no industryIdentifiers\n",
    "- if you do have a industryIdentifiers, it's still possible that there is no ISBN 10 or 13 in it (there are other types of identifiers, but we can't use those for the ebook reader)\n",
    "- the use try/except for cases where there's no industryIdentifiers, or no ISBN 10 or 13 \n",
    "- This is also how we could defend against missing authors or description. \n",
    "- Finally, it is possible to get duplicates based on title and author (maybe 2 different editions?)\n",
    "- we will prevent this by adding a title and author tuple `(title, author)` to a set (which cannot contain duplicates) and compare a new book against this set. If we have it already, we skip it otherwise we add it."
   ]
  },
  {
   "cell_type": "code",
   "execution_count": null,
   "metadata": {},
   "outputs": [],
   "source": [
    "seen_books = set()  # create a set to store the books we've seen\n",
    "\n",
    "if items_dict['totalItems'] > 0:\n",
    "    for book in items_dict[\"items\"]:\n",
    "        volumeInfo = book[\"volumeInfo\"]\n",
    "        author = volumeInfo[\"authors\"][0] # first author only\n",
    "        title = volumeInfo[\"title\"]\n",
    "        \n",
    "        # prevent duplicates\n",
    "        book_info = (title, author)  # create a tuple with  title and author\n",
    "        if book_info in seen_books:  # if we've already seen this book, skip it\n",
    "            continue\n",
    "        seen_books.add(book_info)  # otherwise add the book to the set \n",
    "\n",
    "        print(f\"{title} by {author}\")\n",
    "        try:\n",
    "            identifier_list = volumeInfo[\"industryIdentifiers\"]\n",
    "        except KeyError:\n",
    "            print(\": no industryIdentifiers for this book\")\n",
    "            continue # skip this book if no chance for an ISBN\n",
    "        else:\n",
    "            isbn = None\n",
    "            for identifier in identifier_list:\n",
    "                if identifier[\"type\"] == \"ISBN_13\":\n",
    "                    isbn = identifier[\"identifier\"]\n",
    "                    print(f\"ISBN13={isbn}\")\n",
    "                elif identifier[\"type\"] == \"ISBN_10\": # prefer ISBN10\n",
    "                    isbn = identifier[\"identifier\"]\n",
    "                    print(f\"ISBN10={isbn}\")\n",
    "            if isbn is None:\n",
    "                print(\"no ISBN found\")\n",
    "        print()"
   ]
  },
  {
   "cell_type": "markdown",
   "metadata": {},
   "source": [
    "### Digging deeper\n",
    "- change the code below so that it also prints the values for publicDomain and textToSpeechPermission\n",
    "- if you use the json viewer, be aware that it will show True as true and False as false ...  "
   ]
  },
  {
   "cell_type": "code",
   "execution_count": null,
   "metadata": {},
   "outputs": [],
   "source": [
    "if items_dict['totalItems'] > 0:\n",
    "    for book in items_dict[\"items\"]:\n",
    "        volumeInfo = book[\"volumeInfo\"]\n",
    "        author = volumeInfo[\"authors\"][0] # first author only\n",
    "        title = volumeInfo[\"title\"]\n",
    "\n",
    "        # your code here\n",
    "        inpublicDomain = ???  # will be True or False\n",
    "        textToSpeechPermission = ??? # will be True or False\n",
    "\n",
    "        print(f\"{title} by {author}, Is in public domain? {inpublicDomain}, text-to_speech is {textToSpeechPermission}\")"
   ]
  },
  {
   "cell_type": "markdown",
   "metadata": {},
   "source": [
    "#### My solution (unhide this cell by clicking to the left of My)"
   ]
  },
  {
   "cell_type": "code",
   "execution_count": null,
   "metadata": {},
   "outputs": [],
   "source": [
    "if items_dict['totalItems'] > 0:\n",
    "    for book in items_dict[\"items\"]:\n",
    "        volumeInfo = book[\"volumeInfo\"]\n",
    "        author = volumeInfo[\"authors\"][0] # first author only\n",
    "        title = volumeInfo[\"title\"]\n",
    "\n",
    "        # your code here\n",
    "        accessInfo = book[\"accessInfo\"]\n",
    "        inpublicDomain = accessInfo[\"publicDomain\"]  \n",
    "        textToSpeechPermission = accessInfo[\"textToSpeechPermission\"]\n",
    "\n",
    "\n",
    "        print(f\"{title} by {author}, Is in public domain? {inpublicDomain}, text-to_speech is {textToSpeechPermission}\")"
   ]
  },
  {
   "cell_type": "markdown",
   "metadata": {},
   "source": [
    "### Wrapping the book search code in a function\n",
    "- let's wrap the search code in a function, so we can test it with different queries\n",
    "- Our app will only display one result, but, given that we could have missing data, let's request 10 results (sorted by relevance) and loop over them until we find one that has all the data we need. \n",
    "- Note that I added another defensive measure by converting potentially unprintable unicode characters to ascii. (This is not strictly necessary, but it makes the output a little cleaner.)\n",
    "- For now we'll print out the title, author, description, and ISBN number for this result but we also need to think about how the book results data connects to the GUI.\n",
    "1) we could return title, author, description, and ISBN number either in a list or in a dictionary\n",
    "2) we could wait until this function has been integrated into the GUI class as a method and then store each information as a class attribute\n",
    "\n",
    "- I prefer the 2. option, so let's just print out the information for now (and not store it) and test if the function works for various queries"
   ]
  },
  {
   "cell_type": "code",
   "execution_count": null,
   "metadata": {},
   "outputs": [],
   "source": [
    "# function to get info on a book from Google Books API\n",
    "import requests\n",
    "def get_books(query):\n",
    "\n",
    "    url = \"https://www.googleapis.com/books/v1/volumes\"\n",
    "\n",
    "    # create request url from parameters\n",
    "    params = {\"q\": query, \"maxResults\": 10, \n",
    "              #\"filter\":\"free-ebooks\", \n",
    "              \"orderBy\":\"relevance\", \n",
    "              #\"orderBy\":\"newest\",\n",
    "              \"langRestrict\":\"en\"}\n",
    "    raw_response = requests.get(url, params=params) # make request (will be in json format)\n",
    "    \n",
    "    # bail out if we get an error\n",
    "    if raw_response.status_code != 200:\n",
    "        print(f\"Error: {raw_response.status_code}\")\n",
    "        return None\n",
    "    items = raw_response.json() # convert json to dictionary\n",
    "    if items['totalItems'] == 0:\n",
    "        return(\"Nothing found!\")\n",
    "    \n",
    "    for book in items[\"items\"]:\n",
    "        volumeInfo = book[\"volumeInfo\"] # dictionary of book info\n",
    "        title = volumeInfo[\"title\"]\n",
    "        try:\n",
    "            author = volumeInfo[\"authors\"][0] # list of authors, only want first\n",
    "        except KeyError: # not all books have an author\n",
    "            author = \"No author\"\n",
    "        try: # not all books have a description\n",
    "            description = volumeInfo[\"description\"]\n",
    "        except KeyError:    \n",
    "            description = \"No description\"\n",
    "\n",
    "        try:\n",
    "            identifier_list = volumeInfo[\"industryIdentifiers\"]\n",
    "        except KeyError:\n",
    "            continue # skip this book if no chance for an ISBN\n",
    "        else:\n",
    "            isbn = None\n",
    "            for identifier in identifier_list:\n",
    "                if identifier[\"type\"] == \"ISBN_13\":\n",
    "                    isbn = identifier[\"identifier\"]\n",
    "                elif identifier[\"type\"] == \"ISBN_10\":\n",
    "                    isbn = identifier[\"identifier\"]\n",
    "            if isbn is None: \n",
    "                continue\n",
    "\n",
    "        # convert all words to latin to avoid unicode errors\n",
    "        description = description.encode(\"latin-1\", \"ignore\").decode(\"latin-1\")\n",
    "        title = title.encode(\"latin-1\", \"ignore\").decode(\"latin-1\")\n",
    "        author = author.encode(\"latin-1\", \"ignore\").decode(\"latin-1\")\n",
    "        \n",
    "        # return a string with the book info for the first good book we find\n",
    "        # this also breaks out of the loop\n",
    "        return f\"{title}\\n{author}\\nISBN:{isbn}\\n{description}\\n\\n\"     "
   ]
  },
  {
   "cell_type": "code",
   "execution_count": null,
   "metadata": {},
   "outputs": [],
   "source": [
    "query_list = ['inauthor:\"Agatha Christie\"', \n",
    "              'intitle:\"Linux System Administration\"',  \n",
    "              \"intitle:Gobbledigook\", \n",
    "              \"subject:Literature\",  # another way to search, which we won't use (but you could implement!)\n",
    "              \"Seven Devils\"] # without a prefix, searches all fields\n",
    "for query in query_list:\n",
    "    print(query)\n",
    "    print(get_books(query))"
   ]
  },
  {
   "cell_type": "markdown",
   "metadata": {},
   "source": [
    "### Opening the ebook in a browser-based ebook reader\n",
    "- google_ebook_reader.html is a simple HTML file that uses the Google Books API to open an ebook in a browser-based ebook reader\n",
    "- The ISBN number is in the URL for the ebook reader, so we can use the webbrowser library (https://docs.python.org/3/library/webbrowser.html) to open the ebook in a browser-based ebook reader\n",
    "\n",
    "<p>\n",
    "\n",
    "- To programatically create a similar html file with a specific isbn (which we have as result of a successful search) we need to insert (inline) the ISBN number into the HTML file before we have python open it in the browser.\n",
    "- Jinja2 (https://jinja.palletsprojects.com/en/2.11.x/) is a popular templating library that can do this, but it is not part of the standard library, so you will need to install it with pip install jinja2 below."
   ]
  },
  {
   "cell_type": "code",
   "execution_count": null,
   "metadata": {},
   "outputs": [],
   "source": [
    "%pip install jinja2 --upgrade"
   ]
  },
  {
   "cell_type": "markdown",
   "metadata": {},
   "source": [
    "- The function below uses Jinja2 to create a new html file with the ISBN number (as a string) inserted into the template. \n",
    "- the critical lines in the template are:\n",
    "``` html\n",
    "<script>\n",
    "    var viewer = new google.books.DefaultViewer(document.getElementById('viewerCanvas'));\n",
    "    viewer.load('ISBN:{{ isbn }}');\n",
    "</script>\n",
    "```\n",
    "- the `{{ isbn }}` is replaced by the isbn number string when the template is rendered. This done via the context dictionary, which contains the isbn number as a key-value pair.\n",
    "- with 9780425067949 the html file looks like this:\n",
    "``` html    \n",
    "<script>\n",
    "    var viewer = new google.books.DefaultViewer(document.getElementById('viewerCanvas'));\n",
    "    viewer.load('ISBN:9780425067949');\n",
    "</script>\n",
    "```     "
   ]
  },
  {
   "cell_type": "code",
   "execution_count": 1,
   "metadata": {},
   "outputs": [],
   "source": [
    "import webbrowser\n",
    "from jinja2 import Environment, FileSystemLoader\n",
    "import os.path\n",
    "\n",
    "def open_ebook(isbn, title, author):\n",
    "    # Create a Jinja2 environment with a template folder and load the template\n",
    "    env = Environment(loader=FileSystemLoader('.')) # in current folder\n",
    "    template = env.get_template('google_ebook_reader_template.html')\n",
    "\n",
    "    # Create a context dictionary with the ISBN value\n",
    "    context = {'isbn': isbn}\n",
    "\n",
    "    # Render the template with the context\n",
    "    rendered_template = template.render(context)\n",
    "\n",
    "    # Create a temporary HTML file (you can use a unique name if needed)\n",
    "    # this needs to be a absolute file path\n",
    "    temp_html_file = os.path.abspath(f'{title}_by_{author}_ebook.html')\n",
    "\n",
    "    # Write the rendered content to the temporary HTML file\n",
    "    with open(temp_html_file, 'w') as file:\n",
    "        file.write(rendered_template)\n",
    "\n",
    "    # Open the temporary HTML file in a web browser\n",
    "    # file:// is the equivalent to https:// for local html files\n",
    "    webbrowser.open('file://' + temp_html_file) \n",
    "\n",
    "\n",
    "# test it with one of our earlier results: The Murder on the Links by Agatha Christie ISBN:9780425067949\n",
    "open_ebook(\"9780425067949\", \"The Murder on the Links\", \"Agatha Christie\")"
   ]
  }
 ],
 "metadata": {
  "kernelspec": {
   "display_name": "Python 3",
   "language": "python",
   "name": "python3"
  },
  "language_info": {
   "codemirror_mode": {
    "name": "ipython",
    "version": 3
   },
   "file_extension": ".py",
   "mimetype": "text/x-python",
   "name": "python",
   "nbconvert_exporter": "python",
   "pygments_lexer": "ipython3",
   "version": "3.10.9"
  },
  "orig_nbformat": 4
 },
 "nbformat": 4,
 "nbformat_minor": 2
}

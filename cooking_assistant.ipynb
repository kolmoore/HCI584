{
 "cells": [
  {
   "cell_type": "code",
   "execution_count": 2,
   "metadata": {},
   "outputs": [],
   "source": [
    "import openai\n",
    "import os\n",
    "import tkinter as tk\n",
    "from tkinter import messagebox\n",
    "\n",
    "from dotenv import load_dotenv\n",
    "\n",
    "load_dotenv()\n",
    "\n",
    "key = os.getenv('OPENAI_API_KEY')\n",
    "client = openai.OpenAI(api_key = key)\n",
    "\n"
   ]
  },
  {
   "cell_type": "code",
   "execution_count": 26,
   "metadata": {},
   "outputs": [],
   "source": [
    "delimiter = \"###\"\n",
    "system_message = f\"\"\"\n",
    "You are ChefBot a warm and knowledgeable AI cooking assistant, guiding users through recipes with a friendly, conversational tone. \n",
    "\n",
    "Start by introducing yourself and asking for the user's name, about their food preferences and cooking skill level.  \n",
    "\n",
    "Based on the preferences, provide 3 meal suggestions and ask if the user would like to make one of the suggestions or if they would like to make a custom request.\n",
    "\n",
    "Next, verify that the user has the required ingredients and then walk the user through making the recipe as though you are teaching this to an apprentice.\n",
    "\n",
    "Break it down to each step a human student would have to perform and explain cooking terms and techniques at the user's skill level.  \n",
    "\n",
    "Encourage users to personalize recipes based on their tastes, dietary restrictions, or available ingredients, offering substitutions and alternatives as needed. Adapt \n",
    "instructions and explanations based on the users skill level, providing more detailed guidance for beginners and streamlined instructions for experienced cooks.\n",
    "\n",
    "Focus on being patient, encouraging, and detail-oriented, offering proactive troubleshooting tips and alternative methods if the user encounters common cooking challenges. \n",
    "Provide detailed explanations of cooking techniques, especially for advanced recipes, to ensure the user understands the 'why' behind each step.\n",
    "\n",
    "After the recipe is completed, ask for feedback, encouraging users to reflect on their experience and suggest improvements or variations for future cooking. \n",
    "Inspire users to experiment and learn from their cooking, offering suggestions for trying new techniques or ingredients in future recipes. Ensure the cooking \n",
    "experience is enjoyable and stress-free, making the user feel confident and supported throughout the process.\\\n",
    "\n",
    "Save all generated steps for continuous improvement.\n",
    "\n",
    "Be creative and use engaging elements! \n",
    "The goal is to make cooking fun! \n",
    "\"\"\"\n",
    "\n",
    "\n",
    "thread = [\n",
    "    {'role':'system',\n",
    "     'content':system_message},\n",
    "      ]\n",
    "\n",
    "def get_completion_from_messages(messages, model = \"gpt-3.5-turbo\", temperature=0):\n",
    "    response = client.chat.completions.create(\n",
    "        model=model,\n",
    "        messages=messages,\n",
    "        temperature=temperature,\n",
    "    )\n",
    "    return response.choices[0].message.content\n",
    "\n",
    "# Function to submit message\n",
    "def submit_message():\n",
    "    message = message_entry.get()\n",
    "    if message != \"\":\n",
    "        message = {'role':'user',\n",
    "                    'content': message}\n",
    "        thread.append(message)\n",
    "        completion = get_completion_from_messages(thread)\n",
    "        assistant.config(text = completion,wraplength=300)\n",
    "        message_entry.delete(0, tk.END)\n",
    "    else:\n",
    "        messagebox.showwarning(\"Warning\", \"You must enter a task.\")\n",
    "\n",
    "\n",
    "# Create the main window\n",
    "root = tk.Tk()\n",
    "root.title(\"AI Cooking Assistant\")\n",
    "root.geometry(\"400x400\")\n",
    "\n",
    "# Textbox to display the AI Response\n",
    "assistant = tk.Label(root, text = \"Say Hello if you'd like some help\")\n",
    "assistant.pack(pady=20)\n",
    "\n",
    "# Entry box to submit new messages\n",
    "message_entry = tk.Entry(root, width=100)\n",
    "message_entry.pack(pady=10)\n",
    "message_entry.insert(0, \"Hello\")\n",
    "\n",
    "\n",
    "# Submit Message Button\n",
    "enter_button = tk.Button(root, text=\"Enter\", command=submit_message)\n",
    "enter_button.pack(pady=10)\n",
    "\n",
    "\n",
    "# Run the main loop\n",
    "root.mainloop()\n"
   ]
  },
  {
   "cell_type": "code",
   "execution_count": 22,
   "metadata": {},
   "outputs": [
    {
     "name": "stdout",
     "output_type": "stream",
     "text": [
      "[{'role': 'system', 'content': \"\\nYou are ChefBot a warm and knowledgeable AI cooking assistant, guiding users through recipes with a friendly, conversational tone. \\n\\nStart by introducing yourself and asking for the user's name, about their food preferences and cooking skill level.  \\n\\nBased on the preferences, provide 3 meal suggestions and ask if the user would like to make one of the suggestions or if they would like to make a custom request.\\n\\nNext, verify that the user has the required ingredients and then walk the user through making the recipe as though you are teaching this to an apprentice.\\n\\nBreak it down to each step a human student would have to perform and explain cooking terms and techniques at the user's skill level.  \\n\\nEncourage users to personalize recipes based on their tastes, dietary restrictions, or available ingredients, offering substitutions and alternatives as needed. Adapt \\ninstructions and explanations based on the users skill level, providing more detailed guidance for beginners and streamlined instructions for experienced cooks.\\n\\nFocus on being patient, encouraging, and detail-oriented, offering proactive troubleshooting tips and alternative methods if the user encounters common cooking challenges. \\nProvide detailed explanations of cooking techniques, especially for advanced recipes, to ensure the user understands the 'why' behind each step.\\n\\nAfter the recipe is completed, ask for feedback, encouraging users to reflect on their experience and suggest improvements or variations for future cooking. \\nInspire users to experiment and learn from their cooking, offering suggestions for trying new techniques or ingredients in future recipes. Ensure the cooking \\nexperience is enjoyable and stress-free, making the user feel confident and supported throughout the process.\\nSave all generated steps for continuous improvement.\\n\\nBe creative and use engaging elements! \\nThe goal is to make cooking fun! \\n\"}, {'role': 'user', 'content': 'Hello'}]\n"
     ]
    }
   ],
   "source": [
    "print(thread)"
   ]
  }
 ],
 "metadata": {
  "kernelspec": {
   "display_name": "Python 3",
   "language": "python",
   "name": "python3"
  },
  "language_info": {
   "codemirror_mode": {
    "name": "ipython",
    "version": 3
   },
   "file_extension": ".py",
   "mimetype": "text/x-python",
   "name": "python",
   "nbconvert_exporter": "python",
   "pygments_lexer": "ipython3",
   "version": "3.12.5"
  }
 },
 "nbformat": 4,
 "nbformat_minor": 2
}

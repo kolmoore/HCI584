{
 "cells": [
  {
   "cell_type": "code",
   "execution_count": 20,
   "metadata": {},
   "outputs": [
    {
     "name": "stdout",
     "output_type": "stream",
     "text": [
      "How many trys do you want?\n",
      "How many numbers do you want?\n",
      "Guess a number any number!\n",
      "50 is too high. Guess #: 1 Guesses Remaining: 4\n",
      "40 is too high. Guess #: 2 Guesses Remaining: 3\n",
      "30 is too high. Guess #: 3 Guesses Remaining: 2\n",
      "20 is too high. Guess #: 4 Guesses Remaining: 1\n",
      "10 is too low Guess #: 5 Guesses Remaining: 0\n",
      "You ran out of lives!  Try again?\n"
     ]
    }
   ],
   "source": [
    "import random\n",
    "import tkinter as tk\n",
    "\n",
    "winner = 0\n",
    "print(\"How many trys do you want?\")\n",
    "max_rounds = int(input())\n",
    "print(\"How many numbers do you want?\")\n",
    "max_number = int(input())\n",
    "print(\"Guess a number any number!\")\n",
    "\n",
    "my_secret_number = random.randint(1, max_number)\n",
    "round = 1\n",
    "\n",
    "while not(winner) and round <= max_rounds:\n",
    "\n",
    "    guess = input()\n",
    "    guess = int(guess)\n",
    "\n",
    "    if guess == my_secret_number:\n",
    "        print(\"You Got it!  It was:\",my_secret_number,\"Guess #:\",round,\"Guesses Remaining:\",(max_rounds-round))\n",
    "        winner = 1\n",
    "    else:\n",
    "        if guess > my_secret_number:\n",
    "            print(guess,\"is too high. Guess #:\",round,\"Guesses Remaining:\",(max_rounds-round))\n",
    "            round += 1\n",
    "\n",
    "        if guess < my_secret_number:\n",
    "            print(guess,\"is too low Guess #:\",round,\"Guesses Remaining:\",(max_rounds-round))\n",
    "            round += 1\n",
    "\n",
    "if not(winner):\n",
    "    print(\"You ran out of lives!  Try again?\")\n",
    "\n"
   ]
  }
 ],
 "metadata": {
  "kernelspec": {
   "display_name": "Python 3",
   "language": "python",
   "name": "python3"
  },
  "language_info": {
   "codemirror_mode": {
    "name": "ipython",
    "version": 3
   },
   "file_extension": ".py",
   "mimetype": "text/x-python",
   "name": "python",
   "nbconvert_exporter": "python",
   "pygments_lexer": "ipython3",
   "version": "3.12.5"
  }
 },
 "nbformat": 4,
 "nbformat_minor": 2
}

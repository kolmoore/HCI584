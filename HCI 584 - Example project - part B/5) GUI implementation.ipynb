{
 "cells": [
  {
   "cell_type": "markdown",
   "metadata": {},
   "source": [
    "## Part B - GUI implementation\n",
    "- we will now implement a simple GUI for the project, using tkinter\n",
    "- below, write down what TkIntr (widgets) we would need to recreate the same functionality as in the command line version.\n",
    "- its helps to list the widgets in the order that user will (typically) interact with them   \n",
    "- for each widget also write down how the user interacts with it"
   ]
  },
  {
   "cell_type": "raw",
   "metadata": {
    "vscode": {
     "languageId": "raw"
    }
   },
   "source": [
    "TkInter widgets I will need and for what function:\n",
    "\n",
    "\n",
    "\n",
    "\n",
    "\n"
   ]
  },
  {
   "cell_type": "markdown",
   "metadata": {},
   "source": [
    "## Sketching the GUI \n",
    "- using pen and paper, or some sort of graphing tool (powerpoint is fine!) sketch out the GUI and annotate it with the interactions \n",
    "- If you install the Draw.io Integration Extension for VSCode you can use the GUI_sketch.drawio file I've given you\n",
    "- make a screenshot/snapshot of your sketch and save it as a png file in the same folder as this notebook\n",
    "- name the file \"GUI_sketch.png\"\n",
    "- if you use powerpoint, you can save the slide as a png file by right-clicking on the slide and selecting \"Save as Picture\""
   ]
  },
  {
   "cell_type": "markdown",
   "metadata": {},
   "source": [
    "## Writing GUI code in TkInter\n",
    "- We will start with a simple boilerplate code that creates a window with a label\n",
    "- Importantly, we will implement the GUI as a class, which is a bit more wordy than the simple examples you find on the web, but it is a better way to structure the code and will pay of later on.\n",
    "- Note that the class is derived from the Tk class, which is the main class of the tkinter module\n",
    "- this negates the need to create an instance of the Tk class and use it as root or main (as you might have seen in earlier examples), as we can use the instance of our class instead\n",
    "- This means that our class knows how \"start\" itself via the mainloop() method and also that any widget constructors can use self instead of root or main as the parent widget.\n",
    "- Finally, b/c of this inheritance we need to run the __init__ method of the Tk class, which we do via super().__init__() (super() is just a shorthand for \"parent class\")"
   ]
  },
  {
   "cell_type": "code",
   "execution_count": null,
   "metadata": {},
   "outputs": [],
   "source": [
    "# implement your GUI with a init and start_search method\n",
    "# init needs to create and pack the widgets, the start_search method\n",
    "# will, for now, just print out the search term the user entered\n",
    "import tkinter as tk\n",
    "\n",
    "class Ebook_app(tk.Tk): # Inherit from tk.Tk, so can later use mainloop()\n",
    "    def __init__(self):\n",
    "        super().__init__() # Call the __init__() method of the parent class\n",
    "\n",
    "\n",
    "\n",
    "    def start_search(self):\n",
    "        "
   ]
  },
  {
   "cell_type": "markdown",
   "metadata": {},
   "source": [
    "### Improve the layout\n",
    "\n",
    "- This is obviously super simple and also not the layout I described in my version 1 above, but it is a start.\n",
    "- Let's tackle the layout before we add more widgets\n",
    "- `pack()` is a method that places the widget in the window, and without any arguments will place it in the top left corner and then adds the next widget below it. (pady just adds some padding to the top and bottom of the widget)\n",
    "- to place the widgets in a row we will use `grid()` which conceptually places the widgets in a grid, with each cell being a row and column. (row and column numbers are zero-indexed, i.e. the first row is row 0, the second row is row 1, etc.)\n",
    "- Note that you can drape widgets over multiple cells:\n",
    "\n",
    "<img src=\"https://ik.imagekit.io/mfitzp/pythonguis/static/tutorials/tkinter/redhuli/create-ui-with-tkinter-grid-layout-manager/grid-layout-tkinter.png?tr=w-600\"/>\n",
    "\n",
    "- Here are some examples: https://www.pythonguis.com/tutorials/create-ui-with-tkinter-grid-layout-manager/\n",
    "-  My uses this to place the widgets along 3 columns, with the label in the first column, the text entry in the second and the button in the third but you can use a different system.\n",
    "- Here, I've made the Entry field 10 characters wide, meaning that the \"cells\" in this grid can have different widths or heights.\n",
    "- Note that we can use the `sticky` argument to glue/stretch the widget to the left (W) or right (E) sides of the grid cell"
   ]
  },
  {
   "cell_type": "code",
   "execution_count": null,
   "metadata": {},
   "outputs": [],
   "source": [
    "# copy your GUI code from above (or my version) here and improve it by\n",
    "# using the grid() layout manager. Leave start_search() as is.\n",
    "\n"
   ]
  },
  {
   "cell_type": "markdown",
   "metadata": {},
   "source": [
    "### Add Text widget\n",
    "\n",
    "- Next, lets add a Scrolled Text widget to display the search results in a second row\n",
    "- columnspan allows us to span the widget over all three columns\n",
    "- This is basically a text field (like a simple text editor), so we specify its height in characters"
   ]
  },
  {
   "cell_type": "code",
   "execution_count": null,
   "metadata": {},
   "outputs": [],
   "source": [
    "# copy your GUI code from above (or my version) here and add a \n",
    "# scrolled Text widget for outputs. Also figure out how \"write\"\n",
    "# into the scrolled Text widget and in start_search() write the\n",
    "# search term into the scrolled Text widget."
   ]
  },
  {
   "cell_type": "markdown",
   "metadata": {},
   "source": [
    "### Optional: Add quality threshold input\n",
    "- add a way to input a quality threshold number (1 - 100) \n",
    "- use a default value of 50\n",
    "- hint: think about a type of input widget that allows you to \"physically\" limit the permissable values to 0 - 100. This is much better than using another text entry, which would require you to check the input value and give an error message if it is out of range.\n",
    "- If you choose not to implement this, you will need to hardcode the quality threshold to 50 in the search function later."
   ]
  },
  {
   "cell_type": "code",
   "execution_count": null,
   "metadata": {},
   "outputs": [],
   "source": [
    "# copy your GUI code from above (or my version) here and add a \n",
    "# way to input a quality threshold number (1 - 100) \n"
   ]
  },
  {
   "cell_type": "markdown",
   "metadata": {},
   "source": [
    "## Hooking up the search method from the CLI version to the GUI (3 pts)\n",
    "- Now we need to hook up the search method from the CLI version to the GUI\n",
    "- in a new VSCode instance, open up the CLI version you created in Part A (book_search_CLI.py)\n",
    "- you will need to copy over:\n",
    "    - the import statements at the top of the file\n",
    "    - the fuzzy_find function\n",
    "    - the line that creates dat dataframe from the csv file"
   ]
  },
  {
   "cell_type": "code",
   "execution_count": null,
   "metadata": {},
   "outputs": [],
   "source": [
    "# for pasting in code from part A\n",
    "\n",
    "\n"
   ]
  },
  {
   "cell_type": "markdown",
   "metadata": {},
   "source": [
    "### Upgrade Ebook class    \n",
    "- Rewrite your Ebook class code so that:\n",
    "- the dataframe gets created in the Book class __init__ method and is stored in `self.df`\n",
    "- fuzzy_find() is a method of the Book class the fuzzy_search happens inside the search method of the class. Make sure to add a self argument to method definition! Also, we don't need the df argument anymore, as we can access the dataframe via self.df inside the method\n",
    "- the start_search() function writes the search results and any error messages into the text widget"
   ]
  },
  {
   "cell_type": "code",
   "execution_count": null,
   "metadata": {},
   "outputs": [],
   "source": [
    "# Convert the fuzzy_find function and to a method of the Ebook_app class\n",
    "\n",
    "\n",
    "    def fuzzy_find(\n",
    "    # for fuzzy_find method, make sure to use self as first argument!\n",
    "    # as we won't need to give if df as an argument anymore (it's now an attribute)\n",
    "    # your only need: self, search_term, n=1\n",
    "    # inside make sure to use self.df instead of df\n",
    "    # and return text, index, match_score\n",
    "    "
   ]
  },
  {
   "cell_type": "code",
   "execution_count": null,
   "metadata": {},
   "outputs": [],
   "source": [
    "    def start_search(self):\n",
    "        # get your search term from the appropriate widget and use it with\n",
    "        # the fuzzy_find method.\n",
    "        # make sure to use the new fuzzy_find method, i.e. which doesn't take df as an argument anymore (see above)\n",
    "        # if you used a scale, use self.scale.get() to get the current match quality value\n",
    "        # write (insert) any good match results into the self.scrolled_text widget \n",
    "        # same for bad results, show what the percent is that didn't get over the quality threshold\n",
    "\n"
   ]
  },
  {
   "cell_type": "markdown",
   "metadata": {},
   "source": [
    "### Assemble your upgraded Ebook class below:"
   ]
  },
  {
   "cell_type": "markdown",
   "metadata": {},
   "source": [
    "#### My full solution "
   ]
  },
  {
   "cell_type": "code",
   "execution_count": null,
   "metadata": {},
   "outputs": [],
   "source": [
    "# My full solution:\n",
    "import tkinter as tk\n",
    "from tkinter.scrolledtext import ScrolledText\n",
    "import pandas as pd\n",
    "from rapidfuzz import fuzz, process\n",
    "\n",
    "class Ebook_app(tk.Tk):\n",
    "    def __init__(self):\n",
    "        super().__init__()\n",
    "        self.title(\"Ebook Search\")\n",
    "\n",
    "        # Create a Label and place it on the left (column 0)\n",
    "        self.label = tk.Label(self, text=\"Search for Title:\")\n",
    "        self.label.grid(row=0, column=0, padx=10, pady=10, sticky=\"e\")\n",
    "\n",
    "        # Create an Entry Widget with a specific width (e.g., 30 characters)\n",
    "        self.entry = tk.Entry(self, width=30)\n",
    "        self.entry.grid(row=0, column=1, padx=10, pady=10, sticky=\"ew\")\n",
    "\n",
    "        # Create a Start Search Button and place it on the right (column 2)\n",
    "        self.search_button = tk.Button(self, text=\"Start Search\", command=self.start_search)\n",
    "        self.search_button.grid(row=0, column=2, padx=10, pady=10, sticky=\"w\")\n",
    "\n",
    "        # for a row 2 add a label with Quality Threshold and a Scale widget from 0 to 100\n",
    "        self.label = tk.Label(self, text=\"Quality Threshold:\")\n",
    "        self.label.grid(row=1, column=0, padx=10, pady=10, sticky=\"e\")  \n",
    "        self.scale = tk.Scale(self, from_=0, to=100, orient=\"horizontal\") # start at 50\n",
    "        self.scale.set(50)\n",
    "        self.scale.grid(row=1, column=1, columnspan=2, padx=10, pady=10, sticky=\"ew\")\n",
    "\n",
    "        # Create a scrolled Text widget that spans all three columns and is 15 lines tall\n",
    "        self.scrolled_text = ScrolledText(self, width=40, height=15)\n",
    "        self.scrolled_text.grid(row=2, column=0, columnspan=3, padx=10, pady=10,)\n",
    "\n",
    "        # Read books.csv file into a DataFrame (see Python refresher 4)\n",
    "        self.df = pd.read_csv('books.csv')  \n",
    "\n",
    "    def fuzzy_find(self, search_term, n=1):\n",
    "        matches = process.extract(search_term, self.df[\"Title\"], scorer=fuzz.token_set_ratio, limit=n)\n",
    "        first_match = matches[0] # grab only first match, ignore n for now\n",
    "        text = first_match[0] # the text of the first match\n",
    "        match_score = first_match[1] # the similarity score of the first match\n",
    "        index = first_match[2] # the index in the data frame of the first match\n",
    "        #print(f\"searched for {search_term}\\nbest match: {text}, {index}, {match_score}\") # DEBUG a list of tuples (text, similarity score, index)\n",
    "        return text, index, match_score\n",
    "\n",
    "    def start_search(self):\n",
    "        search_term = self.entry.get()\n",
    "        text, index, match = self.fuzzy_find(search_term)\n",
    "        print(f\"Best match for {search_term} is {text} with a score of {match}%\")\n",
    "        # if there is a > quality threhold match, print the book title, author, and summary,\n",
    "        if match > self.scale.get():\n",
    "            row = self.df.iloc[index]     # get the row of the best match using the index\n",
    "            self.scrolled_text.insert(tk.END, f\"The summary for {row['Title']} by {row['Author']} is:\\n{row['Summary']}\\n\\n\")\n",
    "        else:\n",
    "            self.scrolled_text.insert(tk.END, f\"match of {match} is lower than {self.scale.get()}, no good match found!\\n\\n\")\n",
    "\n",
    "app = Ebook_app()\n",
    "app.mainloop()"
   ]
  }
 ],
 "metadata": {
  "kernelspec": {
   "display_name": "Python 3",
   "language": "python",
   "name": "python3"
  },
  "language_info": {
   "codemirror_mode": {
    "name": "ipython",
    "version": 3
   },
   "file_extension": ".py",
   "mimetype": "text/x-python",
   "name": "python",
   "nbconvert_exporter": "python",
   "pygments_lexer": "ipython3",
   "version": "3.10.9"
  },
  "orig_nbformat": 4
 },
 "nbformat": 4,
 "nbformat_minor": 2
}
